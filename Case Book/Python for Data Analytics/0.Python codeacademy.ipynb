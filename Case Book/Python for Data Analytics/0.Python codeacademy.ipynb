{
 "cells": [
  {
   "cell_type": "code",
   "execution_count": 1,
   "metadata": {
    "collapsed": true
   },
   "outputs": [],
   "source": [
    "# Methods that use dot notation only work with strings.\n",
    "# On the other hand, len() and str() can work on other data types."
   ]
  },
  {
   "cell_type": "code",
   "execution_count": 2,
   "metadata": {
    "collapsed": true
   },
   "outputs": [],
   "source": [
    "from datetime import datetime\n",
    "now = datetime.now()\n",
    "current_year = now.year\n",
    "current_month = now.month\n",
    "current_day = now.day\n",
    "current_hour = now.hour\n",
    "current_minute = now.minute\n",
    "current_second = now.second"
   ]
  },
  {
   "cell_type": "code",
   "execution_count": 3,
   "metadata": {
    "collapsed": true
   },
   "outputs": [],
   "source": [
    "def greater_less_equal_5(answer):\n",
    "    if answer > 5:\n",
    "        return 1\n",
    "    elif answer < 5:          \n",
    "        return -1\n",
    "    else:\n",
    "        return 0"
   ]
  },
  {
   "cell_type": "code",
   "execution_count": 5,
   "metadata": {
    "collapsed": false
   },
   "outputs": [
    {
     "name": "stdout",
     "output_type": "stream",
     "text": [
      "Which word would you like to translate?python\n",
      "ythonpay\n"
     ]
    }
   ],
   "source": [
    "word = raw_input (\"Which word would you like to translate?\")\n",
    "if len(word) >= 1 and word.isalpha():\n",
    "    word_piglatin = word[1:]+word[0]+'ay'\n",
    "else:\n",
    "    word = raw_input (\"Which word would you like to translate?\")\n",
    "print word_piglatin"
   ]
  },
  {
   "cell_type": "code",
   "execution_count": 176,
   "metadata": {
    "collapsed": false
   },
   "outputs": [
    {
     "data": {
      "text/plain": [
       "['__doc__',\n",
       " '__file__',\n",
       " '__name__',\n",
       " '__package__',\n",
       " 'acos',\n",
       " 'acosh',\n",
       " 'asin',\n",
       " 'asinh',\n",
       " 'atan',\n",
       " 'atan2',\n",
       " 'atanh',\n",
       " 'ceil',\n",
       " 'copysign',\n",
       " 'cos',\n",
       " 'cosh',\n",
       " 'degrees',\n",
       " 'e',\n",
       " 'erf',\n",
       " 'erfc',\n",
       " 'exp',\n",
       " 'expm1',\n",
       " 'fabs',\n",
       " 'factorial',\n",
       " 'floor',\n",
       " 'fmod',\n",
       " 'frexp',\n",
       " 'fsum',\n",
       " 'gamma',\n",
       " 'hypot',\n",
       " 'isinf',\n",
       " 'isnan',\n",
       " 'ldexp',\n",
       " 'lgamma',\n",
       " 'log',\n",
       " 'log10',\n",
       " 'log1p',\n",
       " 'modf',\n",
       " 'pi',\n",
       " 'pow',\n",
       " 'radians',\n",
       " 'sin',\n",
       " 'sinh',\n",
       " 'sqrt',\n",
       " 'tan',\n",
       " 'tanh',\n",
       " 'trunc']"
      ]
     },
     "execution_count": 176,
     "metadata": {},
     "output_type": "execute_result"
    }
   ],
   "source": [
    "from math import sqrt  # sqrt(25)\n",
    "from math import *     # sqrt(25)\n",
    "import math            # math.sqrt(25)\n",
    "import math as m\n",
    "from math import exp as e\n",
    "dir(math)"
   ]
  },
  {
   "cell_type": "code",
   "execution_count": 11,
   "metadata": {
    "collapsed": false
   },
   "outputs": [
    {
     "name": "stdout",
     "output_type": "stream",
     "text": [
      "2\n",
      "aardvark\n",
      "dog\n",
      "badger\n",
      "duck\n",
      "emu\n",
      "fennec fox\n",
      "tiger\n",
      "Sloth: 105\n",
      "Burmese Python: 106\n"
     ]
    }
   ],
   "source": [
    "animals = [\"aardvark\", \"badger\", \"duck\", \"emu\", \"fennec fox\"]\n",
    "animals.append(\"tiger\")\n",
    "print animals.index(\"duck\")\n",
    "animals.insert(1, \"dog\")\n",
    "animals.pop(2) # will remove the item at index from the list and return it to you\n",
    "del(animals[2])\n",
    "animals.remove('emu')\n",
    "\n",
    "# Your code here!\n",
    "for animal in animals:\n",
    "    print animal\n",
    "\n",
    "residents = {'Puffin' : 104, 'Sloth' : 105, 'Burmese Python' : 106}\n",
    "del residents['Puffin']\n",
    "for key in residents:\n",
    "    print key+\": \"+str(residents[key])"
   ]
  },
  {
   "cell_type": "code",
   "execution_count": 15,
   "metadata": {
    "collapsed": false
   },
   "outputs": [
    {
     "name": "stdout",
     "output_type": "stream",
     "text": [
      "[3, 5, 7, 9]\n"
     ]
    }
   ],
   "source": [
    "range(6) # => [0,1,2,3,4,5]\n",
    "range(1,6) # => [1,2,3,4,5]\n",
    "range(1,6,3) # => [1,4]"
   ]
  },
  {
   "cell_type": "code",
   "execution_count": 16,
   "metadata": {
    "collapsed": false
   },
   "outputs": [
    {
     "name": "stdout",
     "output_type": "stream",
     "text": [
      "[1, 2, 3, 4, 5, 6]\n",
      "[1, 2, 3, 4, 5, 6]\n",
      "[4, 5, 6]\n"
     ]
    }
   ],
   "source": [
    "m = [1, 2, 3]\n",
    "n = [4, 5, 6]\n",
    "\n",
    "# Add your code here!\n",
    "def join_lists(x,y):\n",
    "    for item in y:\n",
    "        x.append(item)\n",
    "    return x\n",
    "\n",
    "print join_lists(m, n)\n",
    "print m\n",
    "print n"
   ]
  },
  {
   "cell_type": "code",
   "execution_count": 120,
   "metadata": {
    "collapsed": false
   },
   "outputs": [
    {
     "name": "stdout",
     "output_type": "stream",
     "text": [
      "Please enter the dimension of the matrix: 5\n",
      "Please enter the number of mines:5\n"
     ]
    }
   ],
   "source": [
    "from random import randint\n",
    "\n",
    "board = []\n",
    "board_guess = []\n",
    "dim = int(raw_input(\"Please enter the dimension of the matrix: \"))\n",
    "num_mine = int(raw_input(\"Please enter the number of mines:\"))\n",
    "for x in range(0, dim):\n",
    "    board.append([\"O\"] * dim)\n",
    "for x in range(0, dim):\n",
    "    board_guess.append([\"O\"] * dim)\n",
    "def print_board(b):\n",
    "    for row in b:\n",
    "        print \" \".join(row)\n",
    "\n",
    "loc_mine = []\n",
    "for mine in range(num_mine):\n",
    "    ship_row = randint(0, len(board) - 1) + 1\n",
    "    ship_col = randint(0, len(board[0]) - 1) + 1\n",
    "    loc_mine.append([ship_row,ship_col])\n",
    "\n",
    "for mine in loc_mine:\n",
    "    board[mine[0]-1][mine[1]-1] = \"Y\"\n"
   ]
  },
  {
   "cell_type": "code",
   "execution_count": null,
   "metadata": {
    "collapsed": false
   },
   "outputs": [],
   "source": [
    "def guess_ship():\n",
    "    guess_row = int(raw_input(\"Guess Row:\"))\n",
    "    guess_col = int(raw_input(\"Guess Col:\"))\n",
    "    if board[guess_row-1][guess_col-1] == \"Y\":\n",
    "        print \"Oops! You are standing on a mine!\"\n",
    "    else:\n",
    "        if guess_row not in range(1,len(board[1])+1) or guess_col not in range(1,len(board)+1):\n",
    "            print \"Oops, that's not even in the ocean.\"\n",
    "            guess_ship()\n",
    "        elif board[guess_row-1][guess_col-1] not in [\"O\",\"Y\"]:\n",
    "            print \"You guessed that one already.\"\n",
    "            guess_ship()\n",
    "        else:\n",
    "            index_row = guess_row - 1\n",
    "            index_col = guess_col - 1\n",
    "            if guess_row == 1 and guess_col == 1:  # [1,1] -> [1,2],[2,1],[2,2]\n",
    "                nearby_mine = sum([\n",
    "                                   board[index_row][index_col+1]==\"Y\", \n",
    "                                   board[index_row+1][index_col]==\"Y\", board[index_row+1][index_col+1]==\"Y\"])\n",
    "            elif guess_row == 1 and guess_col == dim:  # [1,5] -> [1,4],[2,4],[2,5]\n",
    "                nearby_mine = sum([\n",
    "                                   board[index_row][index_col-1]==\"Y\",\n",
    "                                   board[index_row+1][index_col-1]==\"Y\", board[index_row+1][index_col]==\"Y\"])\n",
    "            elif guess_row == dim and guess_col == 1:  # [5,1] -> [4,1],[4,2],[5,2]\n",
    "                nearby_mine = sum([board[index_row-1][index_col]==\"Y\", board[index_row-1][index_col+1]==\"Y\", \n",
    "                                   board[index_row][index_col+1]==\"Y\" \n",
    "                                   ])\n",
    "            elif guess_row == dim and guess_col == dim:  # [5,5] -> [4,5],[4,4],[5,4]\n",
    "                nearby_mine = sum([board[index_row-1][index_col-1]==\"Y\", board[index_row-1][index_col]==\"Y\", \n",
    "                                   board[index_row][index_col-1]==\"Y\" \n",
    "                                   ])\n",
    "            elif guess_row == 1:  # [1,2] ->[1,1],[1,3],[2,1],[2,2],[2,3]\n",
    "                nearby_mine = sum([ \n",
    "                                   board[index_row][index_col-1]==\"Y\", board[index_row][index_col+1]==\"Y\", \n",
    "                                   board[index_row+1][index_col-1]==\"Y\", board[index_row+1][index_col]==\"Y\", board[index_row+1][index_col+1]==\"Y\"])\n",
    "            elif guess_row == dim:  # [5,2] ->[5,1],[4,1],[4,2],[4,3],[5,3]\n",
    "                nearby_mine = sum([board[index_row-1][index_col-1]==\"Y\", board[index_row-1][index_col]==\"Y\", board[index_row-1][index_col+1]==\"Y\", \n",
    "                                   board[index_row][index_col-1]==\"Y\", board[index_row][index_col+1]==\"Y\"\n",
    "                                   ])\n",
    "            elif guess_col == 1:  # [1,2] ->[1,1],[1,3],[2,1],[2,2],[2,3]\n",
    "                nearby_mine = sum([board[index_row-1][index_col]==\"Y\", board[index_row-1][index_col+1]==\"Y\", \n",
    "                                   board[index_row][index_col+1]==\"Y\", \n",
    "                                   board[index_row+1][index_col]==\"Y\", board[index_row+1][index_col+1]==\"Y\"])\n",
    "            elif guess_col == dim:  # [5,2] ->[5,1],[4,1],[4,2],[4,3],[5,3]\n",
    "                nearby_mine = sum([board[index_row-1][index_col-1]==\"Y\", board[index_row-1][index_col]==\"Y\",  \n",
    "                                   board[index_row][index_col-1]==\"Y\",  \n",
    "                                   board[index_row+1][index_col-1]==\"Y\", board[index_row+1][index_col]==\"Y\"])\n",
    "            else:\n",
    "                nearby_mine = sum([board[index_row-1][index_col-1]==\"Y\", board[index_row-1][index_col]==\"Y\", board[index_row-1][index_col+1]==\"Y\", \n",
    "                                   board[index_row][index_col-1]==\"Y\", board[index_row][index_col+1]==\"Y\", \n",
    "                                   board[index_row+1][index_col-1]==\"Y\", board[index_row+1][index_col]==\"Y\", board[index_row+1][index_col+1]==\"Y\"])\n",
    "            board_guess[guess_row-1][guess_col-1] = str(nearby_mine)\n",
    "            print_board(board_guess)\n",
    "            guess_ship()\n",
    "\n",
    "guess_ship()"
   ]
  },
  {
   "cell_type": "code",
   "execution_count": null,
   "metadata": {
    "collapsed": false
   },
   "outputs": [],
   "source": [
    "# while/else construction. If the loop exits as the result of a break, the else will not be executed.\n",
    "# for/else"
   ]
  },
  {
   "cell_type": "code",
   "execution_count": null,
   "metadata": {
    "collapsed": false
   },
   "outputs": [],
   "source": [
    "choices = ['pizza', 'pasta', 'salad', 'nachos']\n",
    "\n",
    "print 'Your choices are:'\n",
    "for index, item in enumerate(choices):\n",
    "    print index, item\n",
    "\n",
    "list_a = [3, 9, 17, 15, 19]\n",
    "list_b = [2, 4, 8, 10, 30, 40, 50, 60, 70, 80, 90]\n",
    "\n",
    "for a, b in zip(list_a, list_b):\n",
    "    # Add your code here!\n",
    "    print max(a,b)"
   ]
  },
  {
   "cell_type": "code",
   "execution_count": 137,
   "metadata": {
    "collapsed": false
   },
   "outputs": [
    {
     "name": "stdout",
     "output_type": "stream",
     "text": [
      "['this', 'hack', 'is', 'wack,', 'hack']\n",
      "3\n"
     ]
    }
   ],
   "source": [
    "text = \"this hack is wack, hack\"\n",
    "print text.split()\n",
    "print len(\"eee\")"
   ]
  },
  {
   "cell_type": "code",
   "execution_count": 133,
   "metadata": {
    "collapsed": false
   },
   "outputs": [
    {
     "name": "stdout",
     "output_type": "stream",
     "text": [
      "['w', 'o', 'r', 'd']\n",
      "d r o w\n"
     ]
    }
   ],
   "source": [
    "rev = []\n",
    "text = \"word\"\n",
    "for char in text:\n",
    "    rev.append(char)\n",
    "print rev\n",
    "for char in range(len(rev)):\n",
    "    print rev.pop(),"
   ]
  },
  {
   "cell_type": "code",
   "execution_count": 140,
   "metadata": {
    "collapsed": false
   },
   "outputs": [
    {
     "name": "stdout",
     "output_type": "stream",
     "text": [
      "[8, 64, 216, 512, 1000]\n",
      "[216, 1000]\n"
     ]
    }
   ],
   "source": [
    "cubes_by_four = [x**3 for x in range(1,11) if x**3%4 == 0]\n",
    "print cubes_by_four\n",
    "print cubes_by_four[2:5:2]  #[start:end:stride]The default starting index is 0. The default ending index is the end of the list. The default stride is 1."
   ]
  },
  {
   "cell_type": "code",
   "execution_count": 141,
   "metadata": {
    "collapsed": false
   },
   "outputs": [
    {
     "name": "stdout",
     "output_type": "stream",
     "text": [
      "[0, 3, 6, 9, 12, 15]\n",
      "201\n"
     ]
    }
   ],
   "source": [
    "my_list = range(16)\n",
    "print filter(lambda x: x % 3 == 0, my_list)\n",
    "print int(\"11001001\",2) # bin(), oct(), hex()"
   ]
  },
  {
   "cell_type": "code",
   "execution_count": 142,
   "metadata": {
    "collapsed": false
   },
   "outputs": [
    {
     "name": "stdout",
     "output_type": "stream",
     "text": [
      "I'm a yellow lemon and I taste sour.\n",
      "Yep! I'm edible.\n",
      "(1, 2, 3)\n"
     ]
    }
   ],
   "source": [
    "class Fruit(object):\n",
    "    \"\"\"A class that makes various tasty fruits.\"\"\"\n",
    "    def __init__(self, name, color, flavor, poisonous):\n",
    "        self.name = name\n",
    "        self.color = color\n",
    "        self.flavor = flavor\n",
    "        self.poisonous = poisonous\n",
    "\n",
    "    def description(self):\n",
    "        print \"I'm a %s %s and I taste %s.\" % (self.color, self.name, self.flavor)\n",
    "\n",
    "    def is_edible(self):\n",
    "        if not self.poisonous:\n",
    "            print \"Yep! I'm edible.\"\n",
    "        else:\n",
    "            print \"Don't eat me! I am super poisonous.\"\n",
    "\n",
    "lemon = Fruit(\"lemon\", \"yellow\", \"sour\", False)\n",
    "\n",
    "lemon.description()\n",
    "lemon.is_edible()\n",
    "\n",
    "# global variables: variables that are available everywhere\n",
    "# member variables: variables that are only available to members of a certain class\n",
    "# instance variables: variables that are only available to particular instances of a class \n",
    "class Point3D(object):\n",
    "    def __init__(self, x, y, z):\n",
    "        self.x = x\n",
    "        self.y = y\n",
    "        self.z = z\n",
    "    def __repr__(self):\n",
    "        return \"(%d, %d, %d)\" % (self.x, self.y, self.z)\n",
    "\n",
    "my_point = Point3D(1,2,3)\n",
    "print my_point"
   ]
  },
  {
   "cell_type": "code",
   "execution_count": 143,
   "metadata": {
    "collapsed": true
   },
   "outputs": [],
   "source": [
    "with open(\"text.txt\", \"w\") as textfile:\n",
    "    textfile.write(\"Success!\")\n",
    "# don't need to close() the file, with as execute the __exit__ function automatically"
   ]
  },
  {
   "cell_type": "code",
   "execution_count": 144,
   "metadata": {
    "collapsed": false
   },
   "outputs": [
    {
     "data": {
      "text/plain": [
       "['w', 'o', 'r', 'd']"
      ]
     },
     "execution_count": 144,
     "metadata": {},
     "output_type": "execute_result"
    }
   ],
   "source": [
    "list(\"word\")"
   ]
  },
  {
   "cell_type": "code",
   "execution_count": 170,
   "metadata": {
    "collapsed": false
   },
   "outputs": [
    {
     "name": "stdout",
     "output_type": "stream",
     "text": [
      "45\n",
      "[0, 1, 3, 6, 10, 15, 21, 28, 36, 45]\n"
     ]
    }
   ],
   "source": [
    "print reduce(lambda x,y: x+y, range(1,10))\n",
    "fib = lambda n:reduce(lambda x,n:[x[1],x[0]+x[1]], range(n),[0,1])[0]\n",
    "#reduce(lambda x,y: x*y, range(1,n))\n",
    "print [reduce(lambda x,y: x+y, range(i)) for i in range(1,11)]"
   ]
  },
  {
   "cell_type": "code",
   "execution_count": 162,
   "metadata": {
    "collapsed": false
   },
   "outputs": [
    {
     "data": {
      "text/plain": [
       "1"
      ]
     },
     "execution_count": 162,
     "metadata": {},
     "output_type": "execute_result"
    }
   ],
   "source": [
    "reduce(lambda x,y: x+y, range(1,2))"
   ]
  },
  {
   "cell_type": "code",
   "execution_count": 173,
   "metadata": {
    "collapsed": false
   },
   "outputs": [
    {
     "name": "stdout",
     "output_type": "stream",
     "text": [
      " 1 1 2 3 5 8 13 21 34 55\n"
     ]
    }
   ],
   "source": [
    "fib = lambda n:reduce(lambda x,n:[x[1],x[0]+x[1]], range(n),[0,1])[0]\n",
    "\n",
    "for i in range(1,11):\n",
    "    print fib(i),"
   ]
  },
  {
   "cell_type": "code",
   "execution_count": 178,
   "metadata": {
    "collapsed": false
   },
   "outputs": [
    {
     "name": "stdout",
     "output_type": "stream",
     "text": [
      "[2 0 1 5]\n",
      "[2 0 1]\n",
      "0\n",
      "[[ 1  4  9]\n",
      " [16 25 36]]\n"
     ]
    }
   ],
   "source": [
    "import numpy as np\n",
    "a = np.array([2,0,1,5])\n",
    "print a\n",
    "print a[:3]\n",
    "print a.min()\n",
    "a.sort()\n",
    "b = np.array([[1,2,3],[4,5,6]])\n",
    "print b**2"
   ]
  },
  {
   "cell_type": "code",
   "execution_count": 181,
   "metadata": {
    "collapsed": false
   },
   "outputs": [
    {
     "name": "stdout",
     "output_type": "stream",
     "text": [
      "[ 1.91963957  1.68501606]\n",
      "3.14159265359\n"
     ]
    }
   ],
   "source": [
    "# 求解非线性方程组2x1-x2^2=1, x1^2-x2=2\n",
    "from scipy.optimize import fsolve\n",
    "def f(x):\n",
    "    x1 = x[0]\n",
    "    x2 = x[1]\n",
    "    return [2*x1-x2**2-1, x1**2-x2-2]\n",
    "result = fsolve(f,[1,1])\n",
    "print result\n",
    "\n",
    "# 数值积分\n",
    "from scipy import integrate\n",
    "def g(x):\n",
    "    return (1-x**2)**.5\n",
    "pi_2,err = integrate.quad(g,-1,1)\n",
    "print(pi_2*2)"
   ]
  },
  {
   "cell_type": "code",
   "execution_count": 183,
   "metadata": {
    "collapsed": false
   },
   "outputs": [
    {
     "data": {
      "image/png": "[encoded data removed]",
      "text/plain": [
       "<matplotlib.figure.Figure at 0x10f645910>"
      ]
     },
     "metadata": {},
     "output_type": "display_data"
    },
    {
     "data": {
      "image/png": "[encoded data removed]",
      "text/plain": [
       "<matplotlib.figure.Figure at 0x1133823d0>"
      ]
     },
     "metadata": {},
     "output_type": "display_data"
    }
   ],
   "source": [
    "import numpy as np\n",
    "import matplotlib.pyplot as plt\n",
    "x = np.linspace(0,10,1000)\n",
    "y = np.sin(x)+1\n",
    "z = np.cos(x**2)+1\n",
    "\n",
    "plt.figure(figsize = (8,4))\n",
    "plt.plot(x,y,label = '$\\sin x+1$', color = 'red', linewidth = 2)\n",
    "plt.plot(x,z,'b--', label = '$\\cos x^2+1$')\n",
    "plt.xlabel('Time(s) ')\n",
    "plt.ylabel('Volt')\n",
    "plt.title('A Simple Example')\n",
    "plt.ylim(0, 2.2)\n",
    "plt.legend()\n",
    "plt.show()"
   ]
  },
  {
   "cell_type": "code",
   "execution_count": null,
   "metadata": {
    "collapsed": true
   },
   "outputs": [],
   "source": []
  }
 ],
 "metadata": {
  "kernelspec": {
   "display_name": "Python 2",
   "language": "python",
   "name": "python2"
  },
  "language_info": {
   "codemirror_mode": {
    "name": "ipython",
    "version": 2
   },
   "file_extension": ".py",
   "mimetype": "text/x-python",
   "name": "python",
   "nbconvert_exporter": "python",
   "pygments_lexer": "ipython2",
   "version": "2.7.13"
  }
 },
 "nbformat": 4,
 "nbformat_minor": 2
}
