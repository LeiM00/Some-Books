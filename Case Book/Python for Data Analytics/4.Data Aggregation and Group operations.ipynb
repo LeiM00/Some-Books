{
 "cells": [
  {
   "cell_type": "code",
   "execution_count": 2,
   "metadata": {
    "collapsed": false
   },
   "outputs": [],
   "source": [
    "import numpy as np\n",
    "import pandas as pd\n",
    "from pandas import Series, DataFrame"
   ]
  },
  {
   "cell_type": "code",
   "execution_count": 14,
   "metadata": {
    "collapsed": false
   },
   "outputs": [
    {
     "name": "stdout",
     "output_type": "stream",
     "text": [
      "      data1     data2 key1 key2\n",
      "0 -0.638153  0.452041    a  one\n",
      "1 -0.286540 -0.488708    a  two\n",
      "2  0.836742 -0.246670    b  one\n",
      "3 -0.447989  0.953819    b  two\n",
      "4  0.494779 -1.090811    a  one\n",
      "key1\n",
      "a   -0.143305\n",
      "b    0.194376\n",
      "Name: data1, dtype: float64\n",
      "key1\n",
      "a   -0.143305\n",
      "b    0.194376\n",
      "Name: data1, dtype: float64\n",
      "              data2\n",
      "key1 key2          \n",
      "a    one  -0.319385\n",
      "     two  -0.488708\n",
      "b    one  -0.246670\n",
      "     two   0.953819\n"
     ]
    },
    {
     "data": {
      "text/plain": [
       "key1  key2\n",
       "a     one     2\n",
       "      two     1\n",
       "b     one     1\n",
       "      two     1\n",
       "dtype: int64"
      ]
     },
     "execution_count": 14,
     "metadata": {},
     "output_type": "execute_result"
    }
   ],
   "source": [
    "# GroupBy machanics\n",
    "df = DataFrame({'key1' : ['a', 'a', 'b', 'b', 'a'], 'key2' : ['one', 'two', 'one', 'two', 'one'], 'data1' : np.random.randn(5), 'data2' : np.random.randn(5)})\n",
    "print df\n",
    "grouped = df['data1'].groupby(df['key1'])\n",
    "grouped.mean()\n",
    "means = df['data1'].groupby([df['key1'], df['key2']]).mean()\n",
    "means.unstack()\n",
    "\n",
    "print df.groupby('key1')['data1'].mean()\n",
    "print df['data1'].groupby(df['key1']).mean()\n",
    "print df.groupby(['key1', 'key2'])[['data2']].mean()\n",
    "\n",
    "states = np.array(['Ohio', 'California', 'California', 'Ohio', 'Ohio'])\n",
    "years = np.array([2005, 2005, 2006, 2005, 2006])\n",
    "df['data1'].groupby([states, years]).mean()\n",
    "\n",
    "df.groupby(['key1', 'key2']).mean()\n",
    "df.groupby(['key1', 'key2']).size()"
   ]
  },
  {
   "cell_type": "code",
   "execution_count": 15,
   "metadata": {
    "collapsed": false
   },
   "outputs": [
    {
     "name": "stdout",
     "output_type": "stream",
     "text": [
      "a\n",
      "      data1     data2 key1 key2\n",
      "0 -0.638153  0.452041    a  one\n",
      "1 -0.286540 -0.488708    a  two\n",
      "4  0.494779 -1.090811    a  one\n",
      "b\n",
      "      data1     data2 key1 key2\n",
      "2  0.836742 -0.246670    b  one\n",
      "3 -0.447989  0.953819    b  two\n",
      "a one\n",
      "      data1     data2 key1 key2\n",
      "0 -0.638153  0.452041    a  one\n",
      "4  0.494779 -1.090811    a  one\n",
      "a two\n",
      "     data1     data2 key1 key2\n",
      "1 -0.28654 -0.488708    a  two\n",
      "b one\n",
      "      data1    data2 key1 key2\n",
      "2  0.836742 -0.24667    b  one\n",
      "b two\n",
      "      data1     data2 key1 key2\n",
      "3 -0.447989  0.953819    b  two\n"
     ]
    },
    {
     "data": {
      "text/plain": [
       "{dtype('float64'):       data1     data2\n",
       " 0 -0.638153  0.452041\n",
       " 1 -0.286540 -0.488708\n",
       " 2  0.836742 -0.246670\n",
       " 3 -0.447989  0.953819\n",
       " 4  0.494779 -1.090811, dtype('O'):   key1 key2\n",
       " 0    a  one\n",
       " 1    a  two\n",
       " 2    b  one\n",
       " 3    b  two\n",
       " 4    a  one}"
      ]
     },
     "execution_count": 15,
     "metadata": {},
     "output_type": "execute_result"
    }
   ],
   "source": [
    "# Iterating over groups\n",
    "for name, group in df.groupby('key1'):\n",
    "    print name\n",
    "    print group\n",
    "for (name1, name2), group in df.groupby(['key1', 'key2']):\n",
    "    print name1, name2\n",
    "    print group\n",
    "pieces = dict(list(df.groupby('key1')))\n",
    "pieces['b']\n",
    "# group columns\n",
    "grouped = df.groupby(df.dtypes, axis = 1)\n",
    "dict(list(grouped))"
   ]
  },
  {
   "cell_type": "code",
   "execution_count": 18,
   "metadata": {
    "collapsed": false
   },
   "outputs": [
    {
     "data": {
      "text/html": [
       "<div>\n",
       "<table border=\"1\" class=\"dataframe\">\n",
       "  <thead>\n",
       "    <tr style=\"text-align: right;\">\n",
       "      <th></th>\n",
       "      <th>blue</th>\n",
       "      <th>red</th>\n",
       "    </tr>\n",
       "  </thead>\n",
       "  <tbody>\n",
       "    <tr>\n",
       "      <th>Joe</th>\n",
       "      <td>2</td>\n",
       "      <td>3</td>\n",
       "    </tr>\n",
       "    <tr>\n",
       "      <th>Steve</th>\n",
       "      <td>2</td>\n",
       "      <td>3</td>\n",
       "    </tr>\n",
       "    <tr>\n",
       "      <th>Wes</th>\n",
       "      <td>1</td>\n",
       "      <td>2</td>\n",
       "    </tr>\n",
       "    <tr>\n",
       "      <th>Jim</th>\n",
       "      <td>2</td>\n",
       "      <td>3</td>\n",
       "    </tr>\n",
       "    <tr>\n",
       "      <th>Travis</th>\n",
       "      <td>2</td>\n",
       "      <td>3</td>\n",
       "    </tr>\n",
       "  </tbody>\n",
       "</table>\n",
       "</div>"
      ],
      "text/plain": [
       "        blue  red\n",
       "Joe        2    3\n",
       "Steve      2    3\n",
       "Wes        1    2\n",
       "Jim        2    3\n",
       "Travis     2    3"
      ]
     },
     "execution_count": 18,
     "metadata": {},
     "output_type": "execute_result"
    }
   ],
   "source": [
    "# Grouping with Dicts and Series\n",
    "people = DataFrame(np.random.randn(5, 5), columns=['a', 'b', 'c', 'd', 'e'], index=['Joe', 'Steve', 'Wes', 'Jim', 'Travis'])\n",
    "people.ix[2:3, ['b', 'c']] = np.nan\n",
    "mapping = {'a': 'red', 'b': 'red', 'c': 'blue', 'd': 'blue', 'e': 'red', 'f' : 'orange'}\n",
    "people.groupby(mapping, axis = 1).sum()\n",
    "\n",
    "map_series = Series(mapping)\n",
    "people.groupby(mapping, axis = 1).count()"
   ]
  },
  {
   "cell_type": "code",
   "execution_count": 21,
   "metadata": {
    "collapsed": false
   },
   "outputs": [
    {
     "data": {
      "text/html": [
       "<div>\n",
       "<table border=\"1\" class=\"dataframe\">\n",
       "  <thead>\n",
       "    <tr style=\"text-align: right;\">\n",
       "      <th></th>\n",
       "      <th></th>\n",
       "      <th>a</th>\n",
       "      <th>b</th>\n",
       "      <th>c</th>\n",
       "      <th>d</th>\n",
       "      <th>e</th>\n",
       "    </tr>\n",
       "  </thead>\n",
       "  <tbody>\n",
       "    <tr>\n",
       "      <th rowspan=\"2\" valign=\"top\">3</th>\n",
       "      <th>one</th>\n",
       "      <td>-0.293854</td>\n",
       "      <td>1.305411</td>\n",
       "      <td>0.152154</td>\n",
       "      <td>-1.048127</td>\n",
       "      <td>-3.499468</td>\n",
       "    </tr>\n",
       "    <tr>\n",
       "      <th>two</th>\n",
       "      <td>1.770823</td>\n",
       "      <td>-0.646974</td>\n",
       "      <td>1.486193</td>\n",
       "      <td>-0.517010</td>\n",
       "      <td>-0.194487</td>\n",
       "    </tr>\n",
       "    <tr>\n",
       "      <th>5</th>\n",
       "      <th>one</th>\n",
       "      <td>-0.671636</td>\n",
       "      <td>0.520802</td>\n",
       "      <td>1.576364</td>\n",
       "      <td>0.227314</td>\n",
       "      <td>-1.691660</td>\n",
       "    </tr>\n",
       "    <tr>\n",
       "      <th>6</th>\n",
       "      <th>two</th>\n",
       "      <td>1.487637</td>\n",
       "      <td>0.975958</td>\n",
       "      <td>-1.540406</td>\n",
       "      <td>-1.229981</td>\n",
       "      <td>0.722622</td>\n",
       "    </tr>\n",
       "  </tbody>\n",
       "</table>\n",
       "</div>"
      ],
      "text/plain": [
       "              a         b         c         d         e\n",
       "3 one -0.293854  1.305411  0.152154 -1.048127 -3.499468\n",
       "  two  1.770823 -0.646974  1.486193 -0.517010 -0.194487\n",
       "5 one -0.671636  0.520802  1.576364  0.227314 -1.691660\n",
       "6 two  1.487637  0.975958 -1.540406 -1.229981  0.722622"
      ]
     },
     "execution_count": 21,
     "metadata": {},
     "output_type": "execute_result"
    }
   ],
   "source": [
    "# Grouping with Functions\n",
    "# Any function passed as a group key will be called once per index value, with the return values being used as the group names.\n",
    "people.groupby(len).sum()\n",
    "key_list = ['one', 'one', 'one', 'two', 'two']\n",
    "people.groupby([len, key_list]).sum()"
   ]
  },
  {
   "cell_type": "code",
   "execution_count": 24,
   "metadata": {
    "collapsed": false
   },
   "outputs": [
    {
     "data": {
      "text/html": [
       "<div>\n",
       "<table border=\"1\" class=\"dataframe\">\n",
       "  <thead>\n",
       "    <tr style=\"text-align: right;\">\n",
       "      <th>cty</th>\n",
       "      <th>JP</th>\n",
       "      <th>US</th>\n",
       "    </tr>\n",
       "  </thead>\n",
       "  <tbody>\n",
       "    <tr>\n",
       "      <th>0</th>\n",
       "      <td>2</td>\n",
       "      <td>3</td>\n",
       "    </tr>\n",
       "    <tr>\n",
       "      <th>1</th>\n",
       "      <td>2</td>\n",
       "      <td>3</td>\n",
       "    </tr>\n",
       "    <tr>\n",
       "      <th>2</th>\n",
       "      <td>2</td>\n",
       "      <td>3</td>\n",
       "    </tr>\n",
       "    <tr>\n",
       "      <th>3</th>\n",
       "      <td>2</td>\n",
       "      <td>3</td>\n",
       "    </tr>\n",
       "  </tbody>\n",
       "</table>\n",
       "</div>"
      ],
      "text/plain": [
       "cty  JP  US\n",
       "0     2   3\n",
       "1     2   3\n",
       "2     2   3\n",
       "3     2   3"
      ]
     },
     "execution_count": 24,
     "metadata": {},
     "output_type": "execute_result"
    }
   ],
   "source": [
    "# Grouping by index levels, keyword: 'level'\n",
    "columns = pd.MultiIndex.from_arrays([['US', 'US', 'US', 'JP', 'JP'], [1, 3, 5, 1, 3]], names=['cty', 'tenor'])\n",
    "hier_df = DataFrame(np.random.randn(4,5), columns = columns)\n",
    "hier_df.groupby(level = 'cty', axis = 1).count()"
   ]
  },
  {
   "cell_type": "code",
   "execution_count": 39,
   "metadata": {
    "collapsed": false
   },
   "outputs": [
    {
     "data": {
      "text/html": [
       "<div>\n",
       "<table border=\"1\" class=\"dataframe\">\n",
       "  <thead>\n",
       "    <tr style=\"text-align: right;\">\n",
       "      <th></th>\n",
       "      <th></th>\n",
       "      <th>data1</th>\n",
       "      <th>data2</th>\n",
       "    </tr>\n",
       "    <tr>\n",
       "      <th>key1</th>\n",
       "      <th></th>\n",
       "      <th></th>\n",
       "      <th></th>\n",
       "    </tr>\n",
       "  </thead>\n",
       "  <tbody>\n",
       "    <tr>\n",
       "      <th rowspan=\"8\" valign=\"top\">a</th>\n",
       "      <th>count</th>\n",
       "      <td>3.000000</td>\n",
       "      <td>3.000000</td>\n",
       "    </tr>\n",
       "    <tr>\n",
       "      <th>mean</th>\n",
       "      <td>-0.143305</td>\n",
       "      <td>-0.375826</td>\n",
       "    </tr>\n",
       "    <tr>\n",
       "      <th>std</th>\n",
       "      <td>0.579889</td>\n",
       "      <td>0.777596</td>\n",
       "    </tr>\n",
       "    <tr>\n",
       "      <th>min</th>\n",
       "      <td>-0.638153</td>\n",
       "      <td>-1.090811</td>\n",
       "    </tr>\n",
       "    <tr>\n",
       "      <th>25%</th>\n",
       "      <td>-0.462347</td>\n",
       "      <td>-0.789760</td>\n",
       "    </tr>\n",
       "    <tr>\n",
       "      <th>50%</th>\n",
       "      <td>-0.286540</td>\n",
       "      <td>-0.488708</td>\n",
       "    </tr>\n",
       "    <tr>\n",
       "      <th>75%</th>\n",
       "      <td>0.104119</td>\n",
       "      <td>-0.018333</td>\n",
       "    </tr>\n",
       "    <tr>\n",
       "      <th>max</th>\n",
       "      <td>0.494779</td>\n",
       "      <td>0.452041</td>\n",
       "    </tr>\n",
       "    <tr>\n",
       "      <th rowspan=\"8\" valign=\"top\">b</th>\n",
       "      <th>count</th>\n",
       "      <td>2.000000</td>\n",
       "      <td>2.000000</td>\n",
       "    </tr>\n",
       "    <tr>\n",
       "      <th>mean</th>\n",
       "      <td>0.194376</td>\n",
       "      <td>0.353575</td>\n",
       "    </tr>\n",
       "    <tr>\n",
       "      <th>std</th>\n",
       "      <td>0.908443</td>\n",
       "      <td>0.848874</td>\n",
       "    </tr>\n",
       "    <tr>\n",
       "      <th>min</th>\n",
       "      <td>-0.447989</td>\n",
       "      <td>-0.246670</td>\n",
       "    </tr>\n",
       "    <tr>\n",
       "      <th>25%</th>\n",
       "      <td>-0.126807</td>\n",
       "      <td>0.053452</td>\n",
       "    </tr>\n",
       "    <tr>\n",
       "      <th>50%</th>\n",
       "      <td>0.194376</td>\n",
       "      <td>0.353575</td>\n",
       "    </tr>\n",
       "    <tr>\n",
       "      <th>75%</th>\n",
       "      <td>0.515559</td>\n",
       "      <td>0.653697</td>\n",
       "    </tr>\n",
       "    <tr>\n",
       "      <th>max</th>\n",
       "      <td>0.836742</td>\n",
       "      <td>0.953819</td>\n",
       "    </tr>\n",
       "  </tbody>\n",
       "</table>\n",
       "</div>"
      ],
      "text/plain": [
       "               data1     data2\n",
       "key1                          \n",
       "a    count  3.000000  3.000000\n",
       "     mean  -0.143305 -0.375826\n",
       "     std    0.579889  0.777596\n",
       "     min   -0.638153 -1.090811\n",
       "     25%   -0.462347 -0.789760\n",
       "     50%   -0.286540 -0.488708\n",
       "     75%    0.104119 -0.018333\n",
       "     max    0.494779  0.452041\n",
       "b    count  2.000000  2.000000\n",
       "     mean   0.194376  0.353575\n",
       "     std    0.908443  0.848874\n",
       "     min   -0.447989 -0.246670\n",
       "     25%   -0.126807  0.053452\n",
       "     50%    0.194376  0.353575\n",
       "     75%    0.515559  0.653697\n",
       "     max    0.836742  0.953819"
      ]
     },
     "execution_count": 39,
     "metadata": {},
     "output_type": "execute_result"
    }
   ],
   "source": [
    "# Data Aggregation: p277, count, sum, mean, median, std, car, min, max, prod, first, last\n",
    "df.groupby('key1')['data1'].quantile(0.9)\n",
    "# To use your own aggregation functions, pass any function agg method:\n",
    "def peak_to_peak(arr):\n",
    "    return arr.max() - arr.min()\n",
    "grouped = df.groupby('key1')\n",
    "grouped.agg(peak_to_peak)\n",
    "grouped.describe()"
   ]
  },
  {
   "cell_type": "code",
   "execution_count": 52,
   "metadata": {
    "collapsed": false
   },
   "outputs": [
    {
     "name": "stdout",
     "output_type": "stream",
     "text": [
      "   total_bill   tip     sex smoker  day    time  size   tip_pct\n",
      "0       16.99  1.01  Female     No  Sun  Dinner     2  0.059447\n",
      "1       10.34  1.66    Male     No  Sun  Dinner     3  0.160542\n",
      "2       21.01  3.50    Male     No  Sun  Dinner     3  0.166587\n",
      "3       23.68  3.31    Male     No  Sun  Dinner     2  0.139780\n",
      "4       24.59  3.61  Female     No  Sun  Dinner     4  0.146808\n",
      "5       25.29  4.71    Male     No  Sun  Dinner     4  0.186240\n"
     ]
    },
    {
     "data": {
      "text/html": [
       "<div>\n",
       "<table border=\"1\" class=\"dataframe\">\n",
       "  <thead>\n",
       "    <tr style=\"text-align: right;\">\n",
       "      <th></th>\n",
       "      <th>sex</th>\n",
       "      <th>smoker</th>\n",
       "      <th>total_bill</th>\n",
       "      <th>tip</th>\n",
       "      <th>size</th>\n",
       "      <th>tip_pct</th>\n",
       "    </tr>\n",
       "  </thead>\n",
       "  <tbody>\n",
       "    <tr>\n",
       "      <th>0</th>\n",
       "      <td>Female</td>\n",
       "      <td>No</td>\n",
       "      <td>20.79</td>\n",
       "      <td>2.310</td>\n",
       "      <td>3</td>\n",
       "      <td>0.103127</td>\n",
       "    </tr>\n",
       "    <tr>\n",
       "      <th>1</th>\n",
       "      <td>Male</td>\n",
       "      <td>No</td>\n",
       "      <td>20.08</td>\n",
       "      <td>3.295</td>\n",
       "      <td>3</td>\n",
       "      <td>0.163287</td>\n",
       "    </tr>\n",
       "  </tbody>\n",
       "</table>\n",
       "</div>"
      ],
      "text/plain": [
       "      sex smoker  total_bill    tip  size   tip_pct\n",
       "0  Female     No       20.79  2.310     3  0.103127\n",
       "1    Male     No       20.08  3.295     3  0.163287"
      ]
     },
     "execution_count": 52,
     "metadata": {},
     "output_type": "execute_result"
    }
   ],
   "source": [
    "tips = pd.read_csv('Dataset/WorkBook2.csv')\n",
    "print tips\n",
    "grouped = tips.groupby(['sex', 'smoker'])\n",
    "grouped_pct = tips.groupby(['sex', 'smoker'])['tip_pct']\n",
    "grouped_pct.agg('mean')\n",
    "grouped_pct.agg(['mean', 'std', peak_to_peak])\n",
    "# pass the name of the columns\n",
    "grouped_pct.agg([('foo', 'mean'), ('bar', 'std')])\n",
    "\n",
    "functions = ['count', 'mean', 'max']\n",
    "\n",
    "result = grouped['tip_pct', 'total_bill'].agg(functions)\n",
    "result['tip_pct']\n",
    "\n",
    "ftuples = [('Durchshnitt', 'mean'), ('Abweichung', np.var)]\n",
    "grouped['tip_pct', 'total_bill'].agg(ftuples)\n",
    "\n",
    "# To apply different functions to columns: pass a dict to AGG that contains a mapping of column names and functions\n",
    "grouped.agg({'tip': np.max, 'size': 'sum'})\n",
    "grouped.agg({'tip_pct': ['min', 'max', 'mean', 'std'], 'size': 'sum'})\n",
    "\n",
    "# Returning Aggregated Data in \"unindexes\" Form\n",
    "tips.groupby(['sex', 'smoker'], as_index = False).mean()"
   ]
  },
  {
   "cell_type": "code",
   "execution_count": 72,
   "metadata": {
    "collapsed": false
   },
   "outputs": [
    {
     "name": "stdout",
     "output_type": "stream",
     "text": [
      "      data1     data2 key1 key2\n",
      "0 -0.638153  0.452041    a  one\n",
      "1 -0.286540 -0.488708    a  two\n",
      "2  0.836742 -0.246670    b  one\n",
      "3 -0.447989  0.953819    b  two\n",
      "4  0.494779 -1.090811    a  one\n"
     ]
    },
    {
     "data": {
      "text/html": [
       "<div>\n",
       "<table border=\"1\" class=\"dataframe\">\n",
       "  <thead>\n",
       "    <tr style=\"text-align: right;\">\n",
       "      <th></th>\n",
       "      <th>data1</th>\n",
       "      <th>data2</th>\n",
       "    </tr>\n",
       "  </thead>\n",
       "  <tbody>\n",
       "    <tr>\n",
       "      <th>0</th>\n",
       "      <td>-0.494849</td>\n",
       "      <td>0.827867</td>\n",
       "    </tr>\n",
       "    <tr>\n",
       "      <th>1</th>\n",
       "      <td>-0.143235</td>\n",
       "      <td>-0.112882</td>\n",
       "    </tr>\n",
       "    <tr>\n",
       "      <th>2</th>\n",
       "      <td>0.642366</td>\n",
       "      <td>-0.600244</td>\n",
       "    </tr>\n",
       "    <tr>\n",
       "      <th>3</th>\n",
       "      <td>-0.642366</td>\n",
       "      <td>0.600244</td>\n",
       "    </tr>\n",
       "    <tr>\n",
       "      <th>4</th>\n",
       "      <td>0.638084</td>\n",
       "      <td>-0.714985</td>\n",
       "    </tr>\n",
       "  </tbody>\n",
       "</table>\n",
       "</div>"
      ],
      "text/plain": [
       "      data1     data2\n",
       "0 -0.494849  0.827867\n",
       "1 -0.143235 -0.112882\n",
       "2  0.642366 -0.600244\n",
       "3 -0.642366  0.600244\n",
       "4  0.638084 -0.714985"
      ]
     },
     "execution_count": 72,
     "metadata": {},
     "output_type": "execute_result"
    }
   ],
   "source": [
    "# Group wise Operations and Transformations: TRANSFORM and APPLY methods\n",
    "print df\n",
    "k1_means = df.groupby('key1').mean().add_prefix('mean_')\n",
    "pd.merge(df, k1_means, left_on = 'key1', right_index = True)\n",
    "\n",
    "df.groupby('key1').transform(np.mean)\n",
    "df.join(df.groupby('key1').transform(np.mean).add_prefix('mean_'))\n",
    "\n",
    "def demean(arr):\n",
    "    return arr - arr.mean()\n",
    "demeaned = df.groupby('key1').transform(demean)\n",
    "demeaned"
   ]
  },
  {
   "cell_type": "code",
   "execution_count": 87,
   "metadata": {
    "collapsed": false
   },
   "outputs": [
    {
     "data": {
      "text/html": [
       "<div>\n",
       "<table border=\"1\" class=\"dataframe\">\n",
       "  <thead>\n",
       "    <tr style=\"text-align: right;\">\n",
       "      <th></th>\n",
       "      <th>total_bill</th>\n",
       "      <th>tip</th>\n",
       "      <th>sex</th>\n",
       "      <th>smoker</th>\n",
       "      <th>day</th>\n",
       "      <th>time</th>\n",
       "      <th>size</th>\n",
       "      <th>tip_pct</th>\n",
       "    </tr>\n",
       "  </thead>\n",
       "  <tbody>\n",
       "    <tr>\n",
       "      <th>1</th>\n",
       "      <td>10.34</td>\n",
       "      <td>1.66</td>\n",
       "      <td>Male</td>\n",
       "      <td>No</td>\n",
       "      <td>Sun</td>\n",
       "      <td>Dinner</td>\n",
       "      <td>3</td>\n",
       "      <td>0.160542</td>\n",
       "    </tr>\n",
       "    <tr>\n",
       "      <th>2</th>\n",
       "      <td>21.01</td>\n",
       "      <td>3.50</td>\n",
       "      <td>Male</td>\n",
       "      <td>No</td>\n",
       "      <td>Sun</td>\n",
       "      <td>Dinner</td>\n",
       "      <td>3</td>\n",
       "      <td>0.166587</td>\n",
       "    </tr>\n",
       "    <tr>\n",
       "      <th>5</th>\n",
       "      <td>25.29</td>\n",
       "      <td>4.71</td>\n",
       "      <td>Male</td>\n",
       "      <td>No</td>\n",
       "      <td>Sun</td>\n",
       "      <td>Dinner</td>\n",
       "      <td>4</td>\n",
       "      <td>0.186240</td>\n",
       "    </tr>\n",
       "  </tbody>\n",
       "</table>\n",
       "</div>"
      ],
      "text/plain": [
       "   total_bill   tip   sex smoker  day    time  size   tip_pct\n",
       "1       10.34  1.66  Male     No  Sun  Dinner     3  0.160542\n",
       "2       21.01  3.50  Male     No  Sun  Dinner     3  0.166587\n",
       "5       25.29  4.71  Male     No  Sun  Dinner     4  0.186240"
      ]
     },
     "execution_count": 87,
     "metadata": {},
     "output_type": "execute_result"
    }
   ],
   "source": [
    "# Apply: general split-apply-combine\n",
    "def top(df, n = 5, column = 'tip_pct'):\n",
    "    return df.sort_values(by = column)[-n:]\n",
    "top(tips, n = 6)\n",
    "tips.groupby('smoker').apply(top, n = 3, column = 'total_bill')\n",
    "\n",
    "# unable the group key\n",
    "tips.groupby('smoker', group_keys = False).apply(top, n = 3)"
   ]
  },
  {
   "cell_type": "code",
   "execution_count": 94,
   "metadata": {
    "collapsed": false
   },
   "outputs": [
    {
     "data": {
      "text/html": [
       "<div>\n",
       "<table border=\"1\" class=\"dataframe\">\n",
       "  <thead>\n",
       "    <tr style=\"text-align: right;\">\n",
       "      <th></th>\n",
       "      <th>count</th>\n",
       "      <th>max</th>\n",
       "      <th>mean</th>\n",
       "      <th>min</th>\n",
       "    </tr>\n",
       "    <tr>\n",
       "      <th>data1</th>\n",
       "      <th></th>\n",
       "      <th></th>\n",
       "      <th></th>\n",
       "      <th></th>\n",
       "    </tr>\n",
       "  </thead>\n",
       "  <tbody>\n",
       "    <tr>\n",
       "      <th>0</th>\n",
       "      <td>100.0</td>\n",
       "      <td>2.827487</td>\n",
       "      <td>-0.102403</td>\n",
       "      <td>-1.961988</td>\n",
       "    </tr>\n",
       "    <tr>\n",
       "      <th>1</th>\n",
       "      <td>100.0</td>\n",
       "      <td>2.905463</td>\n",
       "      <td>0.118277</td>\n",
       "      <td>-2.092737</td>\n",
       "    </tr>\n",
       "    <tr>\n",
       "      <th>2</th>\n",
       "      <td>100.0</td>\n",
       "      <td>2.362477</td>\n",
       "      <td>0.212673</td>\n",
       "      <td>-1.518431</td>\n",
       "    </tr>\n",
       "    <tr>\n",
       "      <th>3</th>\n",
       "      <td>100.0</td>\n",
       "      <td>2.355791</td>\n",
       "      <td>0.213510</td>\n",
       "      <td>-2.544113</td>\n",
       "    </tr>\n",
       "    <tr>\n",
       "      <th>4</th>\n",
       "      <td>100.0</td>\n",
       "      <td>2.515656</td>\n",
       "      <td>0.070305</td>\n",
       "      <td>-2.346273</td>\n",
       "    </tr>\n",
       "    <tr>\n",
       "      <th>5</th>\n",
       "      <td>100.0</td>\n",
       "      <td>1.901904</td>\n",
       "      <td>0.063601</td>\n",
       "      <td>-2.954573</td>\n",
       "    </tr>\n",
       "    <tr>\n",
       "      <th>6</th>\n",
       "      <td>100.0</td>\n",
       "      <td>1.978584</td>\n",
       "      <td>-0.043510</td>\n",
       "      <td>-2.370687</td>\n",
       "    </tr>\n",
       "    <tr>\n",
       "      <th>7</th>\n",
       "      <td>100.0</td>\n",
       "      <td>2.642357</td>\n",
       "      <td>0.011193</td>\n",
       "      <td>-1.648820</td>\n",
       "    </tr>\n",
       "    <tr>\n",
       "      <th>8</th>\n",
       "      <td>100.0</td>\n",
       "      <td>2.205764</td>\n",
       "      <td>-0.048150</td>\n",
       "      <td>-2.357473</td>\n",
       "    </tr>\n",
       "    <tr>\n",
       "      <th>9</th>\n",
       "      <td>100.0</td>\n",
       "      <td>2.655915</td>\n",
       "      <td>0.027239</td>\n",
       "      <td>-1.904096</td>\n",
       "    </tr>\n",
       "  </tbody>\n",
       "</table>\n",
       "</div>"
      ],
      "text/plain": [
       "       count       max      mean       min\n",
       "data1                                     \n",
       "0      100.0  2.827487 -0.102403 -1.961988\n",
       "1      100.0  2.905463  0.118277 -2.092737\n",
       "2      100.0  2.362477  0.212673 -1.518431\n",
       "3      100.0  2.355791  0.213510 -2.544113\n",
       "4      100.0  2.515656  0.070305 -2.346273\n",
       "5      100.0  1.901904  0.063601 -2.954573\n",
       "6      100.0  1.978584 -0.043510 -2.370687\n",
       "7      100.0  2.642357  0.011193 -1.648820\n",
       "8      100.0  2.205764 -0.048150 -2.357473\n",
       "9      100.0  2.655915  0.027239 -1.904096"
      ]
     },
     "execution_count": 94,
     "metadata": {},
     "output_type": "execute_result"
    }
   ],
   "source": [
    "# Quantile and Bucker Analysis\n",
    "frame = DataFrame({'data1': np.random.randn(1000), 'data2': np.random.randn(1000)})\n",
    "factor = pd.cut(frame['data1'], 4)\n",
    "grouped = frame['data2'].groupby(factor)\n",
    "factor2 = pd.qcut(frame['data1'], 10, labels = False)  # do not show the buckets\n",
    "grouped2 = frame['data2'].groupby(factor2)\n",
    "\n",
    "def get_stats(group):\n",
    "    return {'min': group.min(), 'max': group.max(), 'count': group.count(), 'mean': group.mean()}\n",
    "grouped.apply(get_stats).unstack()\n",
    "grouped2.apply(get_stats).unstack()"
   ]
  },
  {
   "cell_type": "code",
   "execution_count": 99,
   "metadata": {
    "collapsed": false
   },
   "outputs": [
    {
     "data": {
      "text/plain": [
       "Ohio         -1.717844\n",
       "New York     -1.289478\n",
       "Vermont       0.500000\n",
       "Florida      -0.748194\n",
       "Oregon        1.110094\n",
       "Nevada       -1.000000\n",
       "California   -0.668528\n",
       "Idaho        -1.000000\n",
       "dtype: float64"
      ]
     },
     "execution_count": 99,
     "metadata": {},
     "output_type": "execute_result"
    }
   ],
   "source": [
    "# Filling missing values with group specific values\n",
    "s = Series(np.random.rand(6))\n",
    "s[::2] = np.nan\n",
    "s.fillna(s.mean())\n",
    "\n",
    "states = ['Ohio', 'New York', 'Vermont', 'Florida', 'Oregon', 'Nevada', 'California', 'Idaho']\n",
    "group_key = ['East'] * 4 + ['West'] * 4\n",
    "data = Series(np.random.randn(8), index=states)\n",
    "data[['Vermont', 'Nevada', 'Idaho']] = np.nan\n",
    "fill_mean = lambda g: g.fillna(g.mean())\n",
    "data.groupby(group_key).apply(fill_mean)\n",
    "\n",
    "fill_values = {'East': 0.5, 'West': -1}\n",
    "fill_func = lambda g: g.fillna(fill_values[g.name])\n",
    "data.groupby(group_key).apply(fill_func)"
   ]
  },
  {
   "cell_type": "code",
   "execution_count": 106,
   "metadata": {
    "collapsed": false
   },
   "outputs": [
    {
     "data": {
      "text/plain": [
       "4C    4\n",
       "8C    8\n",
       "2D    2\n",
       "7D    7\n",
       "3H    3\n",
       "7H    7\n",
       "3S    3\n",
       "9S    9\n",
       "dtype: int64"
      ]
     },
     "execution_count": 106,
     "metadata": {},
     "output_type": "execute_result"
    }
   ],
   "source": [
    "# Random sampling and permutation\n",
    "suits = ['H', 'S', 'C', 'D']\n",
    "card_val = (range(1, 11) + [10] * 3) * 4 \n",
    "base_names = ['A'] + range(2, 11) + ['J', 'K', 'Q'] \n",
    "cards = []\n",
    "for suit in ['H', 'S', 'C', 'D']: \n",
    "    cards.extend(str(num) + suit for num in base_names)\n",
    "deck = Series(card_val, index=cards)\n",
    "\n",
    "def draw(deck, n = 5):\n",
    "    return deck.take(np.random.permutation(len(deck))[:n])\n",
    "draw(deck)\n",
    "\n",
    "get_suit = lambda card: card[-1]  # the last letter is suit\n",
    "deck.groupby(get_suit).apply(draw, n = 2)\n",
    "deck.groupby(get_suit, group_keys = False).apply(draw, n = 2)"
   ]
  },
  {
   "cell_type": "code",
   "execution_count": 111,
   "metadata": {
    "collapsed": false
   },
   "outputs": [
    {
     "name": "stdout",
     "output_type": "stream",
     "text": [
      "  category      data   weights\n",
      "0        a -1.114831  0.935013\n",
      "1        a  0.377016  0.482599\n",
      "2        a  2.047486  0.851598\n",
      "3        a -0.066502  0.234393\n",
      "4        b -1.050473  0.615976\n",
      "5        b -0.429873  0.726883\n",
      "6        b -0.303842  0.488955\n",
      "7        b -1.390813  0.195146\n"
     ]
    },
    {
     "data": {
      "text/plain": [
       "category\n",
       "a    0.346546\n",
       "b   -0.680581\n",
       "dtype: float64"
      ]
     },
     "execution_count": 111,
     "metadata": {},
     "output_type": "execute_result"
    }
   ],
   "source": [
    "# Group weighted average and correlation\n",
    "df = DataFrame({'category': ['a', 'a', 'a', 'a', 'b', 'b', 'b', 'b'], 'data': np.random.randn(8), 'weights': np.random.rand(8)})\n",
    "print df\n",
    "grouped = df.groupby('category')\n",
    "getwavg = lambda g: np.average(g['data'], weights = g['weights'])\n",
    "grouped.apply(getwavg)"
   ]
  },
  {
   "cell_type": "code",
   "execution_count": 112,
   "metadata": {
    "collapsed": true
   },
   "outputs": [],
   "source": [
    "# Group wise linear regression\n",
    "import statsmodels.api as sm def \n",
    "regress(data, yvar, xvars):\n",
    "    Y = data[yvar]\n",
    "    X = data[xvars] \n",
    "    X['intercept'] = 1.\n",
    "    result = sm.OLS(Y, X).fit() \n",
    "    return result.params\n",
    "by_year.apply(regress, 'AAPL', ['SPX'])"
   ]
  },
  {
   "cell_type": "code",
   "execution_count": 128,
   "metadata": {
    "collapsed": false
   },
   "outputs": [
    {
     "name": "stdout",
     "output_type": "stream",
     "text": [
      "   total_bill   tip     sex smoker  day    time  size   tip_pct\n",
      "0       16.99  1.01  Female     No  Sun  Dinner     2  0.059447\n",
      "1       10.34  1.66    Male     No  Sun  Dinner     3  0.160542\n",
      "2       21.01  3.50    Male     No  Sun  Dinner     3  0.166587\n",
      "3       23.68  3.31    Male     No  Sun  Dinner     2  0.139780\n",
      "4       24.59  3.61  Female     No  Sun  Dinner     4  0.146808\n",
      "5       25.29  4.71    Male     No  Sun  Dinner     4  0.186240\n"
     ]
    },
    {
     "data": {
      "text/html": [
       "<div>\n",
       "<table border=\"1\" class=\"dataframe\">\n",
       "  <thead>\n",
       "    <tr style=\"text-align: right;\">\n",
       "      <th></th>\n",
       "      <th>day</th>\n",
       "      <th>Sun</th>\n",
       "      <th>All</th>\n",
       "    </tr>\n",
       "    <tr>\n",
       "      <th>sex</th>\n",
       "      <th>smoker</th>\n",
       "      <th></th>\n",
       "      <th></th>\n",
       "    </tr>\n",
       "  </thead>\n",
       "  <tbody>\n",
       "    <tr>\n",
       "      <th>Female</th>\n",
       "      <th>No</th>\n",
       "      <td>2.0</td>\n",
       "      <td>2.0</td>\n",
       "    </tr>\n",
       "    <tr>\n",
       "      <th>Male</th>\n",
       "      <th>No</th>\n",
       "      <td>4.0</td>\n",
       "      <td>4.0</td>\n",
       "    </tr>\n",
       "    <tr>\n",
       "      <th>All</th>\n",
       "      <th></th>\n",
       "      <td>6.0</td>\n",
       "      <td>6.0</td>\n",
       "    </tr>\n",
       "  </tbody>\n",
       "</table>\n",
       "</div>"
      ],
      "text/plain": [
       "day            Sun  All\n",
       "sex    smoker          \n",
       "Female No      2.0  2.0\n",
       "Male   No      4.0  4.0\n",
       "All            6.0  6.0"
      ]
     },
     "execution_count": 128,
     "metadata": {},
     "output_type": "execute_result"
    }
   ],
   "source": [
    "# Pivot tables and cross tabulation, p293\n",
    "print tips\n",
    "tips.groupby(['sex', 'smoker']).mean()\n",
    "tips.pivot_table(index=['sex', 'smoker'])\n",
    "\n",
    "tips.pivot_table(index = ['sex', 'day'], columns = 'smoker', values = ['tip_pct', 'size'])\n",
    "tips.pivot_table(index = ['sex', 'day'], columns = 'smoker', values = ['tip_pct', 'size'], margins = True)\n",
    "tips.pivot_table(index = ['sex', 'smoker'], columns = 'day', values = 'tip_pct', margins = True, aggfunc = len, fill_value = 0)"
   ]
  },
  {
   "cell_type": "code",
   "execution_count": 131,
   "metadata": {
    "collapsed": false
   },
   "outputs": [
    {
     "data": {
      "text/html": [
       "<div>\n",
       "<table border=\"1\" class=\"dataframe\">\n",
       "  <thead>\n",
       "    <tr style=\"text-align: right;\">\n",
       "      <th></th>\n",
       "      <th>smoker</th>\n",
       "      <th>No</th>\n",
       "      <th>All</th>\n",
       "    </tr>\n",
       "    <tr>\n",
       "      <th>sex</th>\n",
       "      <th>day</th>\n",
       "      <th></th>\n",
       "      <th></th>\n",
       "    </tr>\n",
       "  </thead>\n",
       "  <tbody>\n",
       "    <tr>\n",
       "      <th>Female</th>\n",
       "      <th>Sun</th>\n",
       "      <td>2</td>\n",
       "      <td>2</td>\n",
       "    </tr>\n",
       "    <tr>\n",
       "      <th>Male</th>\n",
       "      <th>Sun</th>\n",
       "      <td>4</td>\n",
       "      <td>4</td>\n",
       "    </tr>\n",
       "    <tr>\n",
       "      <th>All</th>\n",
       "      <th></th>\n",
       "      <td>6</td>\n",
       "      <td>6</td>\n",
       "    </tr>\n",
       "  </tbody>\n",
       "</table>\n",
       "</div>"
      ],
      "text/plain": [
       "smoker      No  All\n",
       "sex    day         \n",
       "Female Sun   2    2\n",
       "Male   Sun   4    4\n",
       "All          6    6"
      ]
     },
     "execution_count": 131,
     "metadata": {},
     "output_type": "execute_result"
    }
   ],
   "source": [
    "# Cross tabulations (cresstab) is a special case of a pivot table that computes group frequencies\n",
    "pd.crosstab([tips.sex, tips.day], tips.smoker, margins = True)\n",
    "\n"
   ]
  },
  {
   "cell_type": "code",
   "execution_count": null,
   "metadata": {
    "collapsed": true
   },
   "outputs": [],
   "source": []
  }
 ],
 "metadata": {
  "kernelspec": {
   "display_name": "Python 2",
   "language": "python",
   "name": "python2"
  },
  "language_info": {
   "codemirror_mode": {
    "name": "ipython",
    "version": 2
   },
   "file_extension": ".py",
   "mimetype": "text/x-python",
   "name": "python",
   "nbconvert_exporter": "python",
   "pygments_lexer": "ipython2",
   "version": "2.7.13"
  }
 },
 "nbformat": 4,
 "nbformat_minor": 2
}
