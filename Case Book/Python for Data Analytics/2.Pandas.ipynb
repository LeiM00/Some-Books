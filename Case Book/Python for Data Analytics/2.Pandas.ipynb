{
 "cells": [
  {
   "cell_type": "code",
   "execution_count": 1,
   "metadata": {
    "collapsed": false
   },
   "outputs": [
    {
     "name": "stdout",
     "output_type": "stream",
     "text": [
      "[ 4  7 -5  3]\n",
      "Index([u'd', u'b', u'a', u'c'], dtype='object')\n",
      "c    3\n",
      "a   -5\n",
      "c    3\n",
      "d    6\n",
      "dtype: int64\n",
      "d    6\n",
      "b    7\n",
      "c    3\n",
      "dtype: int64\n",
      "d     403.428793\n",
      "b    1096.633158\n",
      "a       0.006738\n",
      "c      20.085537\n",
      "dtype: float64\n"
     ]
    }
   ],
   "source": [
    "from pandas import Series, DataFrame\n",
    "import pandas as pd\n",
    "import numpy as np\n",
    "# A Series is a one-dimensional array-like object containing an array of data and an associated array of data labels, called its index\n",
    "obj1 = Series([4,7,-5,3])\n",
    "obj2 = Series([4,7,-5,3], index=['d', 'b', 'a', 'c'])\n",
    "print obj1.values\n",
    "print obj2.index\n",
    "obj2['d'] = 6\n",
    "print obj2[['c','a', 'c', 'd']]\n",
    "print obj2[obj2>0]\n",
    "print np.exp(obj2)"
   ]
  },
  {
   "cell_type": "code",
   "execution_count": 4,
   "metadata": {
    "collapsed": false
   },
   "outputs": [
    {
     "name": "stdout",
     "output_type": "stream",
     "text": [
      "Ohio      35000\n",
      "Oregon    16000\n",
      "Texas     71000\n",
      "Utah       5000\n",
      "dtype: int64\n",
      "California     True\n",
      "Ohio          False\n",
      "Oregon        False\n",
      "Texas         False\n",
      "dtype: bool\n",
      "California     True\n",
      "Ohio          False\n",
      "Oregon        False\n",
      "Texas         False\n",
      "dtype: bool\n",
      "California    False\n",
      "Ohio           True\n",
      "Oregon         True\n",
      "Texas          True\n",
      "dtype: bool\n",
      "California         NaN\n",
      "Ohio           70000.0\n",
      "Oregon         32000.0\n",
      "Texas         142000.0\n",
      "Utah               NaN\n",
      "dtype: float64\n"
     ]
    }
   ],
   "source": [
    "# create a Series by passing a Python dict\n",
    "sdata = {'Ohio': 35000, 'Texas': 71000, 'Oregon': 16000, 'Utah': 5000}\n",
    "obj3 = Series(sdata)\n",
    "print obj3\n",
    "states = ['California', 'Ohio', 'Oregon', 'Texas']\n",
    "obj4 = Series(sdata, index = states)\n",
    "print pd.isnull(obj4)\n",
    "print obj4.isnull()\n",
    "print pd.notnull(obj4)\n",
    "print obj3+obj4    # it automatically aligns differently indexed data in arithmetic operations\n",
    "\n",
    "# Both the Series object itself and its index have a name attribute\n",
    "obj4.name = 'population'\n",
    "obj4.index.name = 'state'\n",
    "# A Series’s index can be altered in place by assignment\n",
    "obj1.index = ['Bob', 'Steve', 'Jeff', 'Ryan']"
   ]
  },
  {
   "cell_type": "code",
   "execution_count": 18,
   "metadata": {
    "collapsed": false
   },
   "outputs": [
    {
     "name": "stdout",
     "output_type": "stream",
     "text": [
      "   pop   state  year\n",
      "0  1.5    Ohio  2000\n",
      "1  1.7    Ohio  2001\n",
      "2  3.6    Ohio  2002\n",
      "3  2.4  Nevada  2001\n",
      "4  2.9  Nevada  2002\n",
      "       year   state  pop debt\n",
      "one    2000    Ohio  1.5  NaN\n",
      "two    2001    Ohio  1.7  NaN\n",
      "three  2002    Ohio  3.6  NaN\n",
      "four   2001  Nevada  2.4  NaN\n",
      "five   2002  Nevada  2.9  NaN\n",
      "Index([u'year', u'state', u'pop', u'debt'], dtype='object')\n",
      "one        Ohio\n",
      "two        Ohio\n",
      "three      Ohio\n",
      "four     Nevada\n",
      "five     Nevada\n",
      "Name: state, dtype: object\n",
      "one      2000\n",
      "two      2001\n",
      "three    2002\n",
      "four     2001\n",
      "five     2002\n",
      "Name: year, dtype: int64\n",
      "year     2002\n",
      "state    Ohio\n",
      "pop       3.6\n",
      "debt      NaN\n",
      "Name: three, dtype: object\n",
      "       year   state  pop  debt eastern\n",
      "one    2000    Ohio  1.5   NaN    True\n",
      "two    2001    Ohio  1.7  -1.2    True\n",
      "three  2002    Ohio  3.6   NaN    True\n",
      "four   2001  Nevada  2.4  -1.5   False\n",
      "five   2002  Nevada  2.9  -1.7   False\n",
      "      Nevada  Ohio\n",
      "2000     NaN   1.5\n",
      "2001     2.4   1.7\n",
      "2002     2.9   3.6\n",
      "        2000  2001  2002\n",
      "Nevada   NaN   2.4   2.9\n",
      "Ohio     1.5   1.7   3.6\n",
      "[[ nan  1.5]\n",
      " [ 2.4  1.7]\n",
      " [ 2.9  3.6]]\n"
     ]
    }
   ],
   "source": [
    "# DataFrame\n",
    "# construct a DataFrame from a dict of equal-length lists or NumPy arrays\n",
    "data = {'state': ['Ohio', 'Ohio', 'Ohio', 'Nevada', 'Nevada'], 'year': [2000, 2001, 2002, 2001, 2002],\n",
    "'pop': [1.5, 1.7, 3.6, 2.4, 2.9]}\n",
    "frame = DataFrame(data)\n",
    "print frame\n",
    "frame2 = DataFrame(data, columns=['year', 'state', 'pop', 'debt'], index=['one', 'two', 'three', 'four', 'five'])\n",
    "print frame2\n",
    "print frame2.columns\n",
    "print frame2['state']  # A column in a DataFrame can be retrieved as a Series either by dict-like notation or by attribute\n",
    "print frame2.year\n",
    "print frame2.ix['three']  # retrieve rows by .ix method\n",
    "frame2['debt'] = np.arange(5)     # Columns can be modified by assignment\n",
    "val = Series([-1.2, -1.5, -1.7], index=['two', 'four', 'five'])\n",
    "frame2['debt'] = val      # assign a Series\n",
    "frame2['eastern'] = frame2.state == 'Ohio'\n",
    "print frame2\n",
    "del frame2['eastern']\n",
    "\n",
    "# Another common form of data is a nested dict of dicts format\n",
    "pop = {'Nevada': {'2001': 2.4, '2002': 2.9}, 'Ohio': {'2000': 1.5, '2001': 1.7, '2002': 3.6}}\n",
    "frame3 = DataFrame(pop)\n",
    "print frame3\n",
    "print frame3.T    # Transpose\n",
    "DataFrame(pop, index=[2001, 2002, 2003])\n",
    "pdata = {'Ohio': frame3['Ohio'][:-1], 'Nevada': frame3['Nevada'][:2]}\n",
    "frame3.index.name = 'year'; frame3.columns.name = 'state'   # DataFrame's index and column names\n",
    "print frame3.values"
   ]
  },
  {
   "cell_type": "code",
   "execution_count": 23,
   "metadata": {
    "collapsed": false
   },
   "outputs": [
    {
     "name": "stdout",
     "output_type": "stream",
     "text": [
      "Index([u'b', u'c'], dtype='object')\n",
      "True\n"
     ]
    }
   ],
   "source": [
    "# Index Objects, immutable and thus can’t be modified by the user\n",
    "obj = Series(range(3), index = ['a', 'b', 'c'])\n",
    "print obj.index[1:]\n",
    "idx = pd.Index(np.arange(3))\n",
    "obj2 = Series([1.5, -2.5, 0], index = idx)\n",
    "print obj2.index is idx\n",
    "# Lei: index is like a list/np array, see Index methods and propertieson p138"
   ]
  },
  {
   "cell_type": "code",
   "execution_count": 33,
   "metadata": {
    "collapsed": false
   },
   "outputs": [
    {
     "name": "stdout",
     "output_type": "stream",
     "text": [
      "a    0.0\n",
      "b    1.0\n",
      "c    2.0\n",
      "d    NaN\n",
      "e    NaN\n",
      "dtype: float64\n",
      "a    0\n",
      "b    1\n",
      "c    2\n",
      "d    0\n",
      "e    0\n",
      "dtype: int64\n",
      "0      blue\n",
      "1      blue\n",
      "2    purple\n",
      "3    purple\n",
      "4    yellow\n",
      "5    yellow\n",
      "dtype: object\n",
      "   Texas  Utah  California\n",
      "a      1   NaN           2\n",
      "b      1   NaN           2\n",
      "c      4   NaN           5\n",
      "d      7   NaN           8\n"
     ]
    },
    {
     "data": {
      "text/html": [
       "<div>\n",
       "<table border=\"1\" class=\"dataframe\">\n",
       "  <thead>\n",
       "    <tr style=\"text-align: right;\">\n",
       "      <th></th>\n",
       "      <th>Texas</th>\n",
       "      <th>Utah</th>\n",
       "      <th>California</th>\n",
       "    </tr>\n",
       "  </thead>\n",
       "  <tbody>\n",
       "    <tr>\n",
       "      <th>a</th>\n",
       "      <td>1.0</td>\n",
       "      <td>NaN</td>\n",
       "      <td>2.0</td>\n",
       "    </tr>\n",
       "    <tr>\n",
       "      <th>b</th>\n",
       "      <td>NaN</td>\n",
       "      <td>NaN</td>\n",
       "      <td>NaN</td>\n",
       "    </tr>\n",
       "    <tr>\n",
       "      <th>c</th>\n",
       "      <td>4.0</td>\n",
       "      <td>NaN</td>\n",
       "      <td>5.0</td>\n",
       "    </tr>\n",
       "    <tr>\n",
       "      <th>d</th>\n",
       "      <td>7.0</td>\n",
       "      <td>NaN</td>\n",
       "      <td>8.0</td>\n",
       "    </tr>\n",
       "  </tbody>\n",
       "</table>\n",
       "</div>"
      ],
      "text/plain": [
       "   Texas  Utah  California\n",
       "a    1.0   NaN         2.0\n",
       "b    NaN   NaN         NaN\n",
       "c    4.0   NaN         5.0\n",
       "d    7.0   NaN         8.0"
      ]
     },
     "execution_count": 33,
     "metadata": {},
     "output_type": "execute_result"
    }
   ],
   "source": [
    "# Reindexing\n",
    "obj3 = obj.reindex(['a', 'b', 'c', 'd', 'e'])\n",
    "print obj3\n",
    "obj4 = obj.reindex(['a', 'b', 'c', 'd', 'e'], fill_value=0)   # fill_value option\n",
    "print obj4\n",
    "obj5 = Series(['blue', 'purple', 'yellow'], index = [0,2,4])\n",
    "obj6 = obj5.reindex(range(6), method = 'ffill')   # method option(ffill, bfill)\n",
    "print obj6\n",
    "frame = DataFrame(np.arange(9).reshape(3,3), index = ['a','c','d'], columns = ['Ohio', 'Texas', 'California'])\n",
    "states = ['Texas', 'Utah', 'California']\n",
    "frame2 = frame.reindex(index=['a', 'b', 'c', 'd'], method='ffill', columns=states)\n",
    "print frame2\n",
    "frame.ix[['a', 'b', 'c', 'd'], states]"
   ]
  },
  {
   "cell_type": "code",
   "execution_count": 48,
   "metadata": {
    "collapsed": false
   },
   "outputs": [
    {
     "name": "stdout",
     "output_type": "stream",
     "text": [
      "   Texas  Utah  California\n",
      "a      1   NaN           2\n",
      "c      4   NaN           5\n",
      "d      7   NaN           8\n",
      "   Utah  California\n",
      "a   NaN           2\n",
      "c   NaN           5\n",
      "d   NaN           8\n",
      "   Texas  Utah  California\n",
      "c      4   NaN           5\n",
      "d      7   NaN           8\n",
      "Empty DataFrame\n",
      "Columns: [c, d]\n",
      "Index: []\n",
      "   Utah  California\n",
      "c   NaN           5\n",
      "d   NaN           8\n"
     ]
    }
   ],
   "source": [
    "# Dropping entries from an axis\n",
    "obj7 = obj.drop(['b', 'c'])\n",
    "frame3 = frame2.drop(['b'])\n",
    "frame4 = frame2.drop(['Utah', 'Texas'], axis = 1)\n",
    "print frame3\n",
    "print frame3[['Utah', 'California']]\n",
    "print frame3[frame3['Texas']>3]\n",
    "print frame3.ix[:'Utah', ['c', 'd']]\n",
    "print frame3.ix[frame3['California']>3, 'Utah':]"
   ]
  },
  {
   "cell_type": "code",
   "execution_count": 51,
   "metadata": {
    "collapsed": false
   },
   "outputs": [
    {
     "name": "stdout",
     "output_type": "stream",
     "text": [
      "      a     b     c     d   e\n",
      "0   0.0   2.0   4.0   6.0 NaN\n",
      "1   9.0  11.0  13.0  15.0 NaN\n",
      "2  18.0  20.0  22.0  24.0 NaN\n",
      "3   NaN   NaN   NaN   NaN NaN\n",
      "      a     b     c     d     e\n",
      "0   0.0   2.0   4.0   6.0   4.0\n",
      "1   9.0  11.0  13.0  15.0   9.0\n",
      "2  18.0  20.0  22.0  24.0  14.0\n",
      "3  15.0  16.0  17.0  18.0  19.0\n",
      "     a    b     c     d  e\n",
      "0  0.0  1.0   2.0   3.0  0\n",
      "1  4.0  5.0   6.0   7.0  0\n",
      "2  8.0  9.0  10.0  11.0  0\n"
     ]
    }
   ],
   "source": [
    "# Arithmetic and data alignment\n",
    "# When adding together objects, if any index pairs are not the same, the respective index in the result will be the union of the index pairs\n",
    "df1 = DataFrame(np.arange(12.).reshape((3, 4)), columns=list('abcd'))\n",
    "df2 = DataFrame(np.arange(20.).reshape((4, 5)), columns=list('abcde'))\n",
    "print df1 + df2\n",
    "print df1.add(df2, fill_value = 0)\n",
    "df3 = df1.reindex(columns = df2.columns, fill_value = 0)\n",
    "print df3"
   ]
  },
  {
   "cell_type": "code",
   "execution_count": 63,
   "metadata": {
    "collapsed": false
   },
   "outputs": [
    {
     "name": "stdout",
     "output_type": "stream",
     "text": [
      "        b   d   e\n",
      "Utah    0   1   2\n",
      "Ohio    3   4   5\n",
      "Texas   6   7   8\n",
      "Oregon  9  10  11\n",
      "        b  d  e\n",
      "Utah    0  0  0\n",
      "Ohio    3  3  3\n",
      "Texas   6  6  6\n",
      "Oregon  9  9  9\n",
      "          b   d     e   f\n",
      "Utah    0.0 NaN   3.0 NaN\n",
      "Ohio    3.0 NaN   6.0 NaN\n",
      "Texas   6.0 NaN   9.0 NaN\n",
      "Oregon  9.0 NaN  12.0 NaN\n",
      "        b  d  e\n",
      "Utah   -1  0  1\n",
      "Ohio   -1  0  1\n",
      "Texas  -1  0  1\n",
      "Oregon -1  0  1\n"
     ]
    }
   ],
   "source": [
    "frame = DataFrame(np.arange(12).reshape(4,3), columns = ['b', 'd', 'e'], index = ['Utah', 'Ohio', 'Texas', 'Oregon'])\n",
    "series = frame.ix[0]\n",
    "print frame\n",
    "print frame - series\n",
    "series2 = Series(np.arange(3), index = ['b', 'e', 'f'])\n",
    "print frame + series2\n",
    "series3 = frame['d']\n",
    "print frame.sub(series3, axis = 0)"
   ]
  },
  {
   "cell_type": "code",
   "execution_count": 72,
   "metadata": {
    "collapsed": false
   },
   "outputs": [
    {
     "name": "stdout",
     "output_type": "stream",
     "text": [
      "               b         d         e\n",
      "Utah    0.597672  0.062091  1.956333\n",
      "Ohio    0.631712  0.116376  0.938091\n",
      "Texas   0.429161  1.285990  1.415282\n",
      "Oregon  1.118633  1.952238  0.942146\n",
      "b    1.716305\n",
      "d    3.238228\n",
      "e    2.898479\n",
      "dtype: float64\n",
      "Utah      2.554005\n",
      "Ohio      0.821715\n",
      "Texas     0.986121\n",
      "Oregon    3.070871\n",
      "dtype: float64\n",
      "Utah      1.296570\n",
      "Ohio      1.686180\n",
      "Texas     3.130433\n",
      "Oregon   -1.775751\n",
      "dtype: float64\n"
     ]
    },
    {
     "data": {
      "text/html": [
       "<div>\n",
       "<table border=\"1\" class=\"dataframe\">\n",
       "  <thead>\n",
       "    <tr style=\"text-align: right;\">\n",
       "      <th></th>\n",
       "      <th>b</th>\n",
       "      <th>d</th>\n",
       "      <th>e</th>\n",
       "    </tr>\n",
       "  </thead>\n",
       "  <tbody>\n",
       "    <tr>\n",
       "      <th>Utah</th>\n",
       "      <td>-0.60</td>\n",
       "      <td>-0.06</td>\n",
       "      <td>1.96</td>\n",
       "    </tr>\n",
       "    <tr>\n",
       "      <th>Ohio</th>\n",
       "      <td>0.63</td>\n",
       "      <td>0.12</td>\n",
       "      <td>0.94</td>\n",
       "    </tr>\n",
       "    <tr>\n",
       "      <th>Texas</th>\n",
       "      <td>0.43</td>\n",
       "      <td>1.29</td>\n",
       "      <td>1.42</td>\n",
       "    </tr>\n",
       "    <tr>\n",
       "      <th>Oregon</th>\n",
       "      <td>1.12</td>\n",
       "      <td>-1.95</td>\n",
       "      <td>-0.94</td>\n",
       "    </tr>\n",
       "  </tbody>\n",
       "</table>\n",
       "</div>"
      ],
      "text/plain": [
       "            b      d      e\n",
       "Utah    -0.60  -0.06   1.96\n",
       "Ohio     0.63   0.12   0.94\n",
       "Texas    0.43   1.29   1.42\n",
       "Oregon   1.12  -1.95  -0.94"
      ]
     },
     "execution_count": 72,
     "metadata": {},
     "output_type": "execute_result"
    }
   ],
   "source": [
    "frame = DataFrame(np.random.randn(4, 3), columns=list('bde'), index=['Utah', 'Ohio', 'Texas', 'Oregon'])\n",
    "print frame.abs()   # same as np.abs(frame)\n",
    "f = lambda x: x.max() - x.min()\n",
    "print frame.apply(f)    # applying a function on 1D arrays to each column or row\n",
    "print frame.apply(f, axis = 1)\n",
    "print frame.sum(axis = 1)\n",
    "def f(x):\n",
    "    return Series([x.max(),x.min()], index = ['max', 'min'])\n",
    "frame.apply(f, axis = 1)\n",
    "fmt = lambda x: '%.2f' % x\n",
    "frame.applymap(fmt)     # Element-wise Python functions\n",
    "frame['e'].map(fmt)     # Series has a map method for applying an ele- ment-wise function"
   ]
  },
  {
   "cell_type": "code",
   "execution_count": 83,
   "metadata": {
    "collapsed": false
   },
   "outputs": [
    {
     "name": "stdout",
     "output_type": "stream",
     "text": [
      "a    1\n",
      "b    2\n",
      "c    3\n",
      "d    0\n",
      "dtype: int64\n",
      "       d  a  b  c\n",
      "three  0  1  2  3\n",
      "one    4  5  6  7\n",
      "       d  a  b  c\n",
      "one    4  5  6  7\n",
      "three  0  1  2  3\n",
      "       d  c  b  a\n",
      "three  0  3  2  1\n",
      "one    4  7  6  5\n",
      "d    0\n",
      "a    1\n",
      "b    2\n",
      "c    3\n",
      "dtype: int64\n",
      "   a  b\n",
      "2  0 -3\n",
      "0  0  4\n",
      "3  1  2\n",
      "1  1  7\n",
      "0    7.5\n",
      "1    1.0\n",
      "2    7.5\n",
      "3    5.0\n",
      "4    5.0\n",
      "5    3.0\n",
      "6    2.0\n",
      "7    5.0\n",
      "dtype: float64\n",
      "0    7.0\n",
      "1    1.0\n",
      "2    8.0\n",
      "3    4.0\n",
      "4    5.0\n",
      "5    3.0\n",
      "6    2.0\n",
      "7    6.0\n",
      "dtype: float64\n",
      "**********\n",
      "0    1.5\n",
      "1    8.0\n",
      "2    1.5\n",
      "3    4.0\n",
      "4    4.0\n",
      "5    6.0\n",
      "6    7.0\n",
      "7    4.0\n",
      "dtype: float64\n",
      "0    2.0\n",
      "1    8.0\n",
      "2    2.0\n",
      "3    5.0\n",
      "4    5.0\n",
      "5    6.0\n",
      "6    7.0\n",
      "7    5.0\n",
      "dtype: float64\n",
      "     a    b    c\n",
      "0  2.0  3.0  1.0\n",
      "1  1.0  3.0  2.0\n",
      "2  2.0  1.0  3.0\n",
      "3  2.0  3.0  1.0\n"
     ]
    }
   ],
   "source": [
    "# Sorting and ranking\n",
    "obj = Series(range(4), index=['d', 'a', 'b', 'c'])\n",
    "print obj.sort_index()\n",
    "frame = DataFrame(np.arange(8).reshape((2, 4)), index=['three', 'one'], columns=['d', 'a', 'b', 'c'])\n",
    "print frame\n",
    "print frame.sort_index()\n",
    "print frame.sort_index(axis = 1, ascending = False)\n",
    "\n",
    "print obj.sort_values()\n",
    "frame = DataFrame({'b': [4, 7, -3, 2], 'a': [0, 1, 0, 1]})\n",
    "print frame.sort_values(by=['a', 'b'])\n",
    "\n",
    "obj = Series([7, -5, 7, 4, 4, 2, 0, 4])\n",
    "print obj.rank()\n",
    "print obj.rank(method = 'first')    # Ranks can also be assigned according to the order they’re observed in the data\n",
    "print '*'*10\n",
    "print obj.rank(ascending = False)\n",
    "print obj.rank(ascending = False, method = 'max')\n",
    "\n",
    "frame = DataFrame({'b': [4.3, 7, -3, 2], 'a': [0, 1, 0, 1], 'c': [-2, 5, 8, -2.5]})\n",
    "print frame.rank(axis=1)"
   ]
  },
  {
   "cell_type": "code",
   "execution_count": 85,
   "metadata": {
    "collapsed": false
   },
   "outputs": [
    {
     "name": "stdout",
     "output_type": "stream",
     "text": [
      "False\n",
      "          0         1         2\n",
      "b -0.280810 -0.288925 -0.883637\n",
      "b -0.544568  0.319316 -1.445971\n"
     ]
    }
   ],
   "source": [
    "# Axis indexes with duplicate values\n",
    "obj = Series(range(5), index=['a', 'a', 'b', 'b', 'c'])\n",
    "print obj.index.is_unique\n",
    "df = DataFrame(np.random.randn(4, 3), index=['a', 'a', 'b', 'b'])\n",
    "print df.ix['b']"
   ]
  },
  {
   "cell_type": "code",
   "execution_count": 93,
   "metadata": {
    "collapsed": false
   },
   "outputs": [
    {
     "name": "stdout",
     "output_type": "stream",
     "text": [
      "    one  two\n",
      "a  1.40  NaN\n",
      "b  7.10 -4.5\n",
      "c   NaN  NaN\n",
      "d  0.75 -1.3\n",
      "a    1.40\n",
      "b    2.60\n",
      "c    0.00\n",
      "d   -0.55\n",
      "dtype: float64\n",
      "a      NaN\n",
      "b    1.300\n",
      "c      NaN\n",
      "d   -0.275\n",
      "dtype: float64\n",
      "a    one\n",
      "b    one\n",
      "c    NaN\n",
      "d    one\n",
      "dtype: object\n",
      "    one  two\n",
      "a  1.40  NaN\n",
      "b  8.50 -4.5\n",
      "c   NaN  NaN\n",
      "d  9.25 -5.8\n",
      "            one       two\n",
      "count  3.000000  2.000000\n",
      "mean   3.083333 -2.900000\n",
      "std    3.493685  2.262742\n",
      "min    0.750000 -4.500000\n",
      "25%    1.075000 -3.700000\n",
      "50%    1.400000 -2.900000\n",
      "75%    4.250000 -2.100000\n",
      "max    7.100000 -1.300000\n"
     ]
    }
   ],
   "source": [
    "# Summarizing and Computing Descriptive Statistics\n",
    "# Descriptive and summary statistics: p155\n",
    "df = DataFrame([[1.4, np.nan], [7.1, -4.5], [np.nan, np.nan], [0.75, -1.3]], index=['a', 'b', 'c', 'd'], columns=['one', 'two'])\n",
    "print df\n",
    "print df.sum(axis = 1)\n",
    "print df.mean(axis = 1, skipna = False)\n",
    "print df.idxmax(axis = 1)   # idxmin and idxmax, return indirect statistics like the index value where the minimum or maximum values are attained\n",
    "print df.cumsum()\n",
    "print df.describe()"
   ]
  },
  {
   "cell_type": "code",
   "execution_count": 13,
   "metadata": {
    "collapsed": false
   },
   "outputs": [
    {
     "name": "stdout",
     "output_type": "stream",
     "text": [
      "                AAPL      GOOG       IBM      MSFT\n",
      "Date                                              \n",
      "2009-12-24  0.034339  0.011117  0.004385  0.002587\n",
      "2009-12-28  0.012294  0.007098  0.013326  0.005484\n",
      "2009-12-29 -0.011861 -0.005571 -0.003477  0.007058\n",
      "2009-12-30  0.012147  0.005376  0.005461 -0.013699\n",
      "2009-12-31 -0.004300 -0.004416 -0.012597 -0.015504\n",
      "0.495979638628\n",
      "0.000215957611487\n",
      "          AAPL      GOOG       IBM      MSFT\n",
      "AAPL  1.000000  0.470676  0.410011  0.424305\n",
      "GOOG  0.470676  1.000000  0.390689  0.443587\n",
      "IBM   0.410011  0.390689  1.000000  0.495980\n",
      "MSFT  0.424305  0.443587  0.495980  1.000000\n",
      "          AAPL      GOOG       IBM      MSFT\n",
      "AAPL  0.001027  0.000303  0.000252  0.000309\n",
      "GOOG  0.000303  0.000580  0.000142  0.000205\n",
      "IBM   0.000252  0.000142  0.000367  0.000216\n",
      "MSFT  0.000309  0.000205  0.000216  0.000516\n",
      "AAPL    0.410011\n",
      "GOOG    0.390689\n",
      "IBM     1.000000\n",
      "MSFT    0.495980\n",
      "dtype: float64\n"
     ]
    }
   ],
   "source": [
    "# Correlation and Covariance\n",
    "import pandas_datareader.data as web\n",
    "all_data = {}\n",
    "for ticker in ['AAPL', 'IBM', 'MSFT', 'GOOG']:\n",
    "    all_data[ticker] = web.get_data_yahoo(ticker, '1/1/2000', '1/1/2010')\n",
    "price = DataFrame({tic: data['Adj Close'] for tic, data in all_data.iteritems()})\n",
    "volume = DataFrame({tic: data['Volume'] for tic, data in all_data.iteritems()})\n",
    "returns = price.pct_change()\n",
    "print returns.tail()\n",
    "print returns['MSFT'].corr(returns['IBM'])\n",
    "print returns.MSFT.cov(returns.IBM)\n",
    "print returns.corr()\n",
    "print returns.cov()\n",
    "print returns.corrwith(returns.IBM)\n",
    "print returns.corrwith(volume)   # passing a dataframe computes the correlations with matching column names"
   ]
  },
  {
   "cell_type": "code",
   "execution_count": 27,
   "metadata": {
    "collapsed": false
   },
   "outputs": [
    {
     "name": "stdout",
     "output_type": "stream",
     "text": [
      "['a' 'b' 'c' 'd']\n",
      "c    3\n",
      "a    3\n",
      "b    2\n",
      "d    1\n",
      "dtype: int64\n",
      "a    3\n",
      "c    3\n",
      "b    2\n",
      "d    1\n",
      "dtype: int64\n",
      "0    c\n",
      "5    b\n",
      "6    b\n",
      "7    c\n",
      "8    c\n",
      "dtype: object\n",
      "   Qu1  Qu2  Qu3\n",
      "1  1.0  1.0  1.0\n",
      "2  0.0  2.0  1.0\n",
      "3  2.0  2.0  0.0\n",
      "4  2.0  0.0  2.0\n",
      "5  0.0  0.0  1.0\n"
     ]
    }
   ],
   "source": [
    "# Unique Values, Value Counts, and Membership\n",
    "obj = Series(['c', 'a', 'd', 'a', 'a', 'b', 'b', 'c', 'c'])\n",
    "uniques = obj.unique()\n",
    "uniques.sort()\n",
    "print uniques\n",
    "print obj.value_counts()\n",
    "print pd.value_counts(obj, sort = False)\n",
    "print obj[obj.isin(['b', 'c'])]\n",
    "\n",
    "data = DataFrame({'Qu1': [1, 3, 4, 3, 4], 'Qu2': [2, 3, 1, 2, 3],'Qu3': [1, 5, 2, 4, 4]})\n",
    "print data.apply(pd.value_counts).fillna(0)"
   ]
  },
  {
   "cell_type": "code",
   "execution_count": 44,
   "metadata": {
    "collapsed": false
   },
   "outputs": [
    {
     "name": "stdout",
     "output_type": "stream",
     "text": [
      "0    False\n",
      "1    False\n",
      "2     True\n",
      "3    False\n",
      "dtype: bool\n",
      "0    1.0\n",
      "2    3.5\n",
      "4    7.0\n",
      "dtype: float64\n",
      "0    1.0\n",
      "2    3.5\n",
      "4    7.0\n",
      "dtype: float64\n",
      "0    1.0\n",
      "1    0.0\n",
      "2    3.5\n",
      "3    0.0\n",
      "4    7.0\n",
      "dtype: float64\n",
      "     0    1    2\n",
      "0  1.0  6.5  3.0\n",
      "     0    1    2\n",
      "0  1.0  6.5  3.0\n",
      "1  1.0  NaN  NaN\n",
      "3  NaN  6.5  3.0\n",
      "     0    1    2\n",
      "0  1.0  6.5  3.0\n",
      "1  1.0  NaN  NaN\n",
      "2  NaN  NaN  NaN\n",
      "3  NaN  6.5  3.0\n",
      "     0    1    2   4\n",
      "0  1.0  6.5  3.0 NaN\n",
      "3  NaN  6.5  3.0 NaN\n",
      "          0         1         2\n",
      "0  0.691853  0.500000       NaN\n",
      "1  1.009187  0.500000       NaN\n",
      "2 -1.100473  0.500000       NaN\n",
      "3  1.185825  0.500000 -0.686701\n",
      "4 -2.390311  0.500000 -0.805002\n",
      "5 -0.315668  1.015902  2.741418\n",
      "6 -0.639057  1.119608  0.633396\n",
      "          0         1         2\n",
      "0  0.691853  1.015902 -0.686701\n",
      "1  1.009187  1.015902 -0.686701\n",
      "2 -1.100473  1.015902 -0.686701\n",
      "3  1.185825  1.015902 -0.686701\n",
      "4 -2.390311  1.015902 -0.805002\n",
      "5 -0.315668  1.015902  2.741418\n",
      "6 -0.639057  1.119608  0.633396\n",
      "          0         1         2\n",
      "0  0.691853       NaN       NaN\n",
      "1  1.009187       NaN -0.686701\n",
      "2 -1.100473       NaN -0.686701\n",
      "3  1.185825  1.015902 -0.686701\n",
      "4 -2.390311  1.015902 -0.805002\n",
      "5 -0.315668  1.015902  2.741418\n",
      "6 -0.639057  1.119608  0.633396\n",
      "          0         1         2\n",
      "0  0.691853  0.523230  0.523230\n",
      "1  1.009187  0.523230  0.523230\n",
      "2 -1.100473  0.523230  0.523230\n",
      "3  1.185825  0.523230 -0.686701\n",
      "4 -2.390311  0.523230 -0.805002\n",
      "5 -0.315668  1.015902  2.741418\n",
      "6 -0.639057  1.119608  0.633396\n"
     ]
    }
   ],
   "source": [
    "# Handling Missing Data\n",
    "string_data = Series(['aardvark', 'artichoke', np.nan, 'avocado'])\n",
    "print string_data.isnull()\n",
    "\n",
    "from numpy import nan as NA\n",
    "data = Series([1, NA, 3.5, NA, 7])\n",
    "print data.dropna()\n",
    "print data[data.notnull()]\n",
    "print data.fillna(0)\n",
    "\n",
    "data = DataFrame([[1., 6.5, 3.], [1., NA, NA], [NA, NA, NA], [NA, 6.5, 3.]])\n",
    "print data.dropna()    # dropna by default drops any row containing a missing value\n",
    "print data.dropna(how = 'all')    # only drop rows that are all NA\n",
    "data[4] = NA\n",
    "print data.dropna(axis = 1, how = 'all')\n",
    "print data.dropna(thresh = 2)     # keep only rows containing a certain number of observations\n",
    "\n",
    "df = DataFrame(np.random.randn(7, 3))\n",
    "df.ix[:4, 1] = NA; df.ix[:2, 2] = NA    # Calling fillna with a dict you can use a different fill value for each column\n",
    "print df.fillna({1: 0.5, 3: -1})\n",
    "print df.fillna(method = 'bfill')\n",
    "print df.fillna(method = 'bfill', limit = 2)"
   ]
  },
  {
   "cell_type": "code",
   "execution_count": 59,
   "metadata": {
    "collapsed": false
   },
   "outputs": [
    {
     "name": "stdout",
     "output_type": "stream",
     "text": [
      "MultiIndex(levels=[[u'a', u'b', u'c', u'd'], [1, 2, 3]],\n",
      "           labels=[[0, 0, 0, 1, 1, 1, 2, 2, 3, 3], [0, 1, 2, 0, 1, 2, 0, 1, 1, 2]])\n",
      "1    0.731748\n",
      "2   -2.089894\n",
      "3    1.280240\n",
      "dtype: float64\n",
      "a    1.202762\n",
      "b   -2.089894\n",
      "c    0.460741\n",
      "d    0.389250\n",
      "dtype: float64\n",
      "          1         2         3\n",
      "a  0.837986  1.202762 -0.756759\n",
      "b  0.731748 -2.089894  1.280240\n",
      "c  0.685610  0.460741       NaN\n",
      "d       NaN  0.389250  0.836228\n",
      "a  1    0.837986\n",
      "   2    1.202762\n",
      "   3   -0.756759\n",
      "b  1    0.731748\n",
      "   2   -2.089894\n",
      "   3    1.280240\n",
      "c  1    0.685610\n",
      "   2    0.460741\n",
      "d  2    0.389250\n",
      "   3    0.836228\n",
      "dtype: float64\n"
     ]
    },
    {
     "data": {
      "text/html": [
       "<div>\n",
       "<table border=\"1\" class=\"dataframe\">\n",
       "  <thead>\n",
       "    <tr>\n",
       "      <th></th>\n",
       "      <th>state</th>\n",
       "      <th colspan=\"2\" halign=\"left\">Ohio</th>\n",
       "      <th>Colorado</th>\n",
       "    </tr>\n",
       "    <tr>\n",
       "      <th></th>\n",
       "      <th>color</th>\n",
       "      <th>Green</th>\n",
       "      <th>Red</th>\n",
       "      <th>Green</th>\n",
       "    </tr>\n",
       "    <tr>\n",
       "      <th>key1</th>\n",
       "      <th>key2</th>\n",
       "      <th></th>\n",
       "      <th></th>\n",
       "      <th></th>\n",
       "    </tr>\n",
       "  </thead>\n",
       "  <tbody>\n",
       "    <tr>\n",
       "      <th rowspan=\"2\" valign=\"top\">a</th>\n",
       "      <th>1</th>\n",
       "      <td>0</td>\n",
       "      <td>1</td>\n",
       "      <td>2</td>\n",
       "    </tr>\n",
       "    <tr>\n",
       "      <th>2</th>\n",
       "      <td>3</td>\n",
       "      <td>4</td>\n",
       "      <td>5</td>\n",
       "    </tr>\n",
       "    <tr>\n",
       "      <th rowspan=\"2\" valign=\"top\">b</th>\n",
       "      <th>1</th>\n",
       "      <td>6</td>\n",
       "      <td>7</td>\n",
       "      <td>8</td>\n",
       "    </tr>\n",
       "    <tr>\n",
       "      <th>2</th>\n",
       "      <td>9</td>\n",
       "      <td>10</td>\n",
       "      <td>11</td>\n",
       "    </tr>\n",
       "  </tbody>\n",
       "</table>\n",
       "</div>"
      ],
      "text/plain": [
       "state      Ohio     Colorado\n",
       "color     Green Red    Green\n",
       "key1 key2                   \n",
       "a    1        0   1        2\n",
       "     2        3   4        5\n",
       "b    1        6   7        8\n",
       "     2        9  10       11"
      ]
     },
     "execution_count": 59,
     "metadata": {},
     "output_type": "execute_result"
    }
   ],
   "source": [
    "# Hierarchical Indexing\n",
    "data = Series(np.random.randn(10), index=[['a', 'a', 'a', 'b', 'b', 'b', 'c', 'c', 'd', 'd'], [1, 2, 3, 1, 2, 3, 1, 2, 2, 3]])\n",
    "print data.index\n",
    "print data['b']\n",
    "print data[:,2]\n",
    "print data.unstack()\n",
    "print data.unstack().stack()\n",
    "\n",
    "frame = DataFrame(np.arange(12).reshape((4, 3)), index=[['a', 'a', 'b', 'b'], [1, 2, 1, 2]],\n",
    "                  columns=[['Ohio', 'Ohio', 'Colorado'], ['Green', 'Red', 'Green']])\n",
    "frame.index.names = ['key1', 'key2']\n",
    "frame.columns.names = ['state', 'color']\n",
    "frame"
   ]
  },
  {
   "cell_type": "code",
   "execution_count": 68,
   "metadata": {
    "collapsed": false
   },
   "outputs": [
    {
     "name": "stdout",
     "output_type": "stream",
     "text": [
      "state  Ohio     Colorado\n",
      "color Green Red    Green\n",
      "key2                    \n",
      "1         6   8       10\n",
      "2        12  14       16\n",
      "color      Green  Red\n",
      "key1 key2            \n",
      "a    1         2    1\n",
      "     2         8    4\n",
      "b    1        14    7\n",
      "     2        20   10\n"
     ]
    }
   ],
   "source": [
    "# Reordering and Sorting Levels\n",
    "frame.swaplevel('key1', 'key2').sortlevel('key2')\n",
    "frame.swaplevel(0,1).sortlevel(0)\n",
    "print frame.sum(level = 'key2')\n",
    "print frame.sum(level = 'color', axis = 1)"
   ]
  },
  {
   "cell_type": "code",
   "execution_count": 70,
   "metadata": {
    "collapsed": false
   },
   "outputs": [
    {
     "name": "stdout",
     "output_type": "stream",
     "text": [
      "   a  b    c  d\n",
      "0  0  7  one  0\n",
      "1  1  6  one  1\n",
      "2  2  5  one  2\n",
      "3  3  4  two  0\n",
      "4  4  3  two  1\n",
      "5  5  2  two  2\n",
      "6  6  1  two  3\n",
      "       a  b\n",
      "c   d      \n",
      "one 0  0  7\n",
      "    1  1  6\n",
      "    2  2  5\n",
      "two 0  3  4\n",
      "    1  4  3\n",
      "    2  5  2\n",
      "    3  6  1\n"
     ]
    }
   ],
   "source": [
    "# PROC SUMMARY, PIVOT: Using a DataFrame’s Columns\n",
    "frame = DataFrame({'a': range(7), 'b': range(7, 0, -1),'c': ['one', 'one', 'one', 'two', 'two', 'two', 'two'],'d': [0, 1, 2, 0, 1, 2, 3]})\n",
    "print frame\n",
    "frame2 = frame.set_index(['c','d'])\n",
    "print frame2\n",
    "frame3 = frame2.reset_index()    # reset_index does the opposite of set_index; the hierarchical index levels are are moved into the columns\n"
   ]
  },
  {
   "cell_type": "code",
   "execution_count": null,
   "metadata": {
    "collapsed": true
   },
   "outputs": [],
   "source": []
  }
 ],
 "metadata": {
  "kernelspec": {
   "display_name": "Python 2",
   "language": "python",
   "name": "python2"
  },
  "language_info": {
   "codemirror_mode": {
    "name": "ipython",
    "version": 2
   },
   "file_extension": ".py",
   "mimetype": "text/x-python",
   "name": "python",
   "nbconvert_exporter": "python",
   "pygments_lexer": "ipython2",
   "version": "2.7.13"
  }
 },
 "nbformat": 4,
 "nbformat_minor": 2
}
