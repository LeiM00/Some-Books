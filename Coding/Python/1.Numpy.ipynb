{
 "cells": [
  {
   "cell_type": "code",
   "execution_count": 65,
   "metadata": {
    "collapsed": false
   },
   "outputs": [
    {
     "name": "stdout",
     "output_type": "stream",
     "text": [
      "[[ 1.  0.  0.]\n",
      " [ 0.  1.  0.]\n",
      " [ 0.  0.  1.]]\n"
     ]
    }
   ],
   "source": [
    "import numpy as np\n",
    "from numpy.random import randn\n",
    "data1 = [6, 7.5, 8, 0, 1]\n",
    "arr1 = np.array(data1, dtype = np.float64)\n",
    "\n",
    "data2 = [[1,2,3,4],[5,6,7,8]]\n",
    "arr2 = np.array(data2)\n",
    "\n",
    "data3_string = ['Bob', 'Joe', 'Will', 'Bob', 'Will', 'Joe', 'Joe']\n",
    "arr3 = np.array(data3_string)\n",
    "\n",
    "arr4 = np.arange(32).reshape((8,4))\n",
    "arr5 = randn(5)\n",
    "\n",
    "zeros_arr = np.zeros((3,6))\n",
    "ones_arr = np.ones((3,4))\n",
    "empty_arr = np.empty((2,3,2))\n",
    "range_arr = np.arange(15)\n",
    "eye_arr = np.eye(3)\n",
    "identity_arr = np.identity(3)\n",
    "\n",
    "arr2.shape\n",
    "arr2.ndim\n",
    "arr1.dtype\n",
    "print identity_arr"
   ]
  },
  {
   "cell_type": "code",
   "execution_count": 18,
   "metadata": {
    "collapsed": false
   },
   "outputs": [
    {
     "name": "stdout",
     "output_type": "stream",
     "text": [
      "[  1.25   9.6   42.  ]\n",
      "float64\n"
     ]
    }
   ],
   "source": [
    "# convert or cast an array from one dtype to another using ndarray’s astype method\n",
    "float_arr1 = arr2.astype(np.float64)\n",
    "numeric_strings = np.array(['1.25', '9.6', '42'], dtype = np.string_)\n",
    "float_arr2 = numeric_strings.astype(float_arr1.dtype)\n",
    "print float_arr2\n",
    "print float_arr2.dtype"
   ]
  },
  {
   "cell_type": "code",
   "execution_count": 26,
   "metadata": {
    "collapsed": false
   },
   "outputs": [
    {
     "name": "stdout",
     "output_type": "stream",
     "text": [
      "[[ 1  4  9 16]\n",
      " [25 36 49 64]]\n",
      "[[0 0 0 0]\n",
      " [0 0 0 0]]\n",
      "[[ 1.          0.5         0.33333333  0.25      ]\n",
      " [ 0.2         0.16666667  0.14285714  0.125     ]]\n",
      "[[ 1.          1.41421356  1.73205081  2.        ]\n",
      " [ 2.23606798  2.44948974  2.64575131  2.82842712]]\n"
     ]
    }
   ],
   "source": [
    "# Array vectorization Operations\n",
    "print arr2 * arr2\n",
    "print arr2 - arr2\n",
    "print 1/float_arr1\n",
    "print arr2 ** .5"
   ]
  },
  {
   "cell_type": "code",
   "execution_count": 129,
   "metadata": {
    "collapsed": false
   },
   "outputs": [
    {
     "name": "stdout",
     "output_type": "stream",
     "text": [
      "[   6.     7.5  123.   123.     1. ]\n",
      "3 3\n",
      "[[1]\n",
      " [5]]\n",
      "[[-1.54027491  0.48956219 -0.04647866 -1.30865374]\n",
      " [ 0.97092838  0.16502575 -0.43966493  0.70601127]\n",
      " [ 0.12541253 -0.37191402 -1.29595168 -0.64166917]\n",
      " [-0.71507451 -1.54248968  0.40696114 -2.54185893]\n",
      " [ 1.12743354 -1.25926114 -0.49821217  1.29459096]\n",
      " [ 0.28415975  1.36648254 -0.4857136   0.07344752]\n",
      " [ 1.07384758 -0.71178372  0.61012353  0.78029749]]\n",
      "[[-0.04647866 -1.30865374]\n",
      " [-1.29595168 -0.64166917]\n",
      " [ 0.40696114 -2.54185893]\n",
      " [-0.49821217  1.29459096]]\n",
      "[[-0.5         0.48956219 -0.04647866 -0.5       ]\n",
      " [ 0.97092838  0.16502575 -0.43966493  0.70601127]\n",
      " [ 0.12541253 -0.37191402 -0.5        -0.5       ]\n",
      " [-0.5        -0.5         0.40696114 -0.5       ]\n",
      " [ 1.12743354 -0.5        -0.49821217  1.29459096]\n",
      " [ 0.28415975  1.36648254 -0.4857136   0.07344752]\n",
      " [ 1.07384758 -0.5         0.61012353  0.78029749]]\n",
      "[ 4 23 29 10]\n",
      "[[ 4  7  5  6]\n",
      " [20 23 21 22]\n",
      " [28 31 29 30]\n",
      " [ 8 11  9 10]]\n"
     ]
    }
   ],
   "source": [
    "# Indexing and Slicing\n",
    "# Array slices are views on the original array - any modifications to the view will be reflected in the source array\n",
    "arr1_slice = arr1[2:4]\n",
    "arr1_slice[:] = 123\n",
    "print arr1\n",
    "arr1_slice_copy = arr1[2:4].copy()    # a copy of a slice of an ndarray instead of a view\n",
    "print arr2[0][2], arr2[0,2]\n",
    "print arr2[:,:1]\n",
    "\n",
    "data = randn(7,4)\n",
    "print data\n",
    "print data[(arr3 == 'Bob') | (arr3 == 'Will'), 2:]  # Selecting data from an array by boolean indexing always creates a copy of the data\n",
    "data[data<-.5] = -.5\n",
    "print data\n",
    "# Facy indexing, always copies the data into a new array\n",
    "print arr4[[1,5,7,2],[0,3,1,2]]\n",
    "print arr4[[1,5,7,2]][:,[0,3,1,2]]"
   ]
  },
  {
   "cell_type": "code",
   "execution_count": 62,
   "metadata": {
    "collapsed": false
   },
   "outputs": [
    {
     "name": "stdout",
     "output_type": "stream",
     "text": [
      "[[ 21.  27.  33.]\n",
      " [ 26.  34.  42.]\n",
      " [ 31.  41.  51.]\n",
      " [ 36.  48.  60.]]\n",
      "[[1 5]\n",
      " [2 6]\n",
      " [3 7]\n",
      " [4 8]]\n",
      "[[1 5]\n",
      " [2 6]\n",
      " [3 7]\n",
      " [4 8]]\n"
     ]
    }
   ],
   "source": [
    "# Transpose, return a view on the data without making a copy\n",
    "print np.dot(arr2.T,arr)        #computing the inner matrix product XTX using np.dot\n",
    "print arr2.transpose()\n",
    "print arr2.swapaxes(0,1)"
   ]
  },
  {
   "cell_type": "code",
   "execution_count": 68,
   "metadata": {
    "collapsed": false
   },
   "outputs": [
    {
     "name": "stdout",
     "output_type": "stream",
     "text": [
      "[ 2.44948974  2.73861279  2.82842712  0.          1.        ]\n",
      "[  4.03428793e+02   1.80804241e+03   2.98095799e+03   1.00000000e+00\n",
      "   2.71828183e+00]\n",
      "[ 6.          7.5         8.          0.40254393  1.        ]\n",
      "(array([ 0. ,  0.5,  0. ,  0. ,  0. ]), array([ 6.,  7.,  8.,  0.,  1.]))\n"
     ]
    }
   ],
   "source": [
    "# Universal Functions: Fast Element-wise Array Functions\n",
    "print np.sqrt(arr1)\n",
    "print np.exp(arr1)\n",
    "print np.maximum(arr1, arr5)\n",
    "print np.modf(arr1)    # returns the fractional and integral parts of a floating point array:\n"
   ]
  },
  {
   "cell_type": "code",
   "execution_count": 82,
   "metadata": {
    "collapsed": false
   },
   "outputs": [
    {
     "name": "stdout",
     "output_type": "stream",
     "text": [
      "[[ 0.          1.          2.          3.        ]\n",
      " [ 1.          1.41421356  2.23606798  3.16227766]\n",
      " [ 2.          2.23606798  2.82842712  3.60555128]\n",
      " [ 3.          3.16227766  3.60555128  4.24264069]]\n"
     ]
    }
   ],
   "source": [
    "points = np.arange(4)\n",
    "xs, ys = np.meshgrid(points, points)  # The np.meshgrid function takes two 1D arrays and produces two 2D matrices corresponding to all pairs of (x, y) in the two arrays\n",
    "print np.sqrt(xs**2+ys**2)"
   ]
  },
  {
   "cell_type": "code",
   "execution_count": 130,
   "metadata": {
    "collapsed": false,
    "scrolled": true
   },
   "outputs": [],
   "source": [
    "# Expressing Conditional Logic as Array Operations\n",
    "result1 = np.where(arr3[:5]=='Bob', arr1, arr5)  # x if condition else y\n",
    "result2 = np.where(data > 0, 1, -1)\n",
    "result3 = np.where(data > 0, data, 0)\n",
    "cond1 = (arr3 == 'Bob') | (arr3 == 'Joe')\n",
    "cond2 = (arr3 == 'Bob') | (arr3 == 'Will')\n",
    "result4 = np.where(cond1&cond2, 0, np.where(cond1, 1, np.where(cond2, 2, 3)))"
   ]
  },
  {
   "cell_type": "code",
   "execution_count": 148,
   "metadata": {
    "collapsed": false
   },
   "outputs": [
    {
     "name": "stdout",
     "output_type": "stream",
     "text": [
      "[[1 2 3 4]\n",
      " [5 6 7 8]]\n",
      "4.5 36\n",
      "4.5 36\n",
      "[ 2.5  6.5]\n",
      "[ 6  8 10 12]\n",
      "[[ 1  2  3  4]\n",
      " [ 6  8 10 12]]\n",
      "[[   1    2    6   24]\n",
      " [   5   30  210 1680]]\n",
      "[3 3]\n",
      "True\n",
      "False\n",
      "None\n",
      "[[-0.5        -0.5        -0.5         0.12541253]\n",
      " [-0.5        -0.5        -0.37191402  0.40696114]\n",
      " [-0.5        -0.5        -0.04647866  0.48956219]\n",
      " [-0.5        -0.49821217  0.28415975  0.97092838]\n",
      " [-0.5         0.07344752  0.70601127  1.07384758]\n",
      " [-0.4857136   0.16502575  0.78029749  1.29459096]\n",
      " [-0.43966493  0.61012353  1.12743354  1.36648254]]\n",
      "['Bob' 'Joe' 'Will']\n",
      "[ True False  True  True  True False False]\n"
     ]
    }
   ],
   "source": [
    "# Mathematical and Statistical Methods\n",
    "print arr2\n",
    "print arr2.mean(), arr2.sum()\n",
    "print np.mean(arr2), np.sum(arr2)\n",
    "print arr2.mean(1)\n",
    "print arr2.sum(0)\n",
    "print arr2.cumsum(0)\n",
    "print arr2.cumprod(1)\n",
    "print arr2.argmax(1)\n",
    "\n",
    "print cond1.any()    # any: tests whether one or more values in an array is True\n",
    "print cond1.all()    # all: checks if every value is True\n",
    "\n",
    "print data.sort(0)\n",
    "print np.sort(data)\n",
    "print np.unique(arr3)  # returns the sorted unique values in an array\n",
    "print np.in1d(arr3, ['Bob', 'Will'])  # Compute a boolean array indicating whether each element ofxis contained iny"
   ]
  },
  {
   "cell_type": "code",
   "execution_count": 154,
   "metadata": {
    "collapsed": false
   },
   "outputs": [
    {
     "data": {
      "text/plain": [
       "array([[1, 2, 3, 4],\n",
       "       [5, 6, 7, 8]])"
      ]
     },
     "execution_count": 154,
     "metadata": {},
     "output_type": "execute_result"
    }
   ],
   "source": [
    "# File Input and Output with Arrays\n",
    "# Storing Arrays on Disk in Binary Format\n",
    "np.save('some_array', arr1)     # Arrays are saved by default in an uncompressed raw binary format with file extension .npy\n",
    "np.load('some_array.npy')\n",
    "np.savez('array_archive.npz', a = arr1, b = arr2)   # save multiple arrays in a zip archive using np.savez and passing the arrays as key- word arguments\n",
    "arch = np.load('array_archive.npz')   # When loading an .npz file, you get back a dict-like object which loads the individualarrays\n",
    "arch['b']"
   ]
  },
  {
   "cell_type": "code",
   "execution_count": 161,
   "metadata": {
    "collapsed": false
   },
   "outputs": [
    {
     "name": "stdout",
     "output_type": "stream",
     "text": [
      "[[ 30  70]\n",
      " [ 70 174]]\n",
      "[[ 30  70]\n",
      " [ 70 174]]\n",
      "\n",
      "[[ 1.67922295  0.61397715 -0.91058326 -2.7629508 ]\n",
      " [ 0.61397715  1.40309413  1.18612218  0.13153918]\n",
      " [-0.91058326  1.18612218  2.84964954  3.34801658]\n",
      " [-2.7629508   0.13153918  3.34801658  6.06010766]]\n",
      "[[ 25.40139531   1.86755824 -17.72352365  21.33226117]\n",
      " [  1.86755824   6.37026983  -8.24332588   5.26736899]\n",
      " [-17.72352365  -8.24332588  21.09421884 -19.55554332]\n",
      " [ 21.33226117   5.26736899 -19.55554332  20.58039442]]\n",
      "[[  1.00000000e+00  -1.77635684e-15   0.00000000e+00  -7.10542736e-15]\n",
      " [  3.55271368e-15   1.00000000e+00  -3.55271368e-15   1.77635684e-15]\n",
      " [  0.00000000e+00   0.00000000e+00   1.00000000e+00  -1.42108547e-14]\n",
      " [  0.00000000e+00   0.00000000e+00   0.00000000e+00   1.00000000e+00]]\n",
      "[[-0.49177053 -0.28357    -0.56978301  0.59421975]\n",
      " [-0.1798069  -0.71210486  0.66260692  0.14672494]\n",
      " [ 0.26666978 -0.63040371 -0.48450932 -0.54472848]\n",
      " [ 0.80914674 -0.12282459 -0.03937136  0.57327617]]\n",
      "[[-3.41464737 -0.13148444  3.70347719  7.13141735]\n",
      " [ 0.         -1.93714772 -2.79407769 -2.16511205]\n",
      " [ 0.          0.         -0.20773008 -0.1992987 ]\n",
      " [ 0.          0.          0.          0.02785545]]\n"
     ]
    }
   ],
   "source": [
    "# Linear Algebra, other functions: p122\n",
    "print arr2.dot(arr2.T)\n",
    "print np.dot(arr2, arr2.T)\n",
    "print\n",
    "from numpy.linalg import inv, qr\n",
    "mat = data.T.dot(data)\n",
    "print mat\n",
    "print inv(mat)    # inverse\n",
    "print mat.dot(inv(mat))\n",
    "q, r = qr(mat)    # QR decomposition\n",
    "print q\n",
    "print r"
   ]
  },
  {
   "cell_type": "code",
   "execution_count": 162,
   "metadata": {
    "collapsed": true
   },
   "outputs": [],
   "source": [
    "# Random Number Generation, other functions: p123\n",
    "normal_samples = np.random.normal(size = (4,4))"
   ]
  },
  {
   "cell_type": "code",
   "execution_count": 183,
   "metadata": {
    "collapsed": false
   },
   "outputs": [
    {
     "name": "stdout",
     "output_type": "stream",
     "text": [
      "(50, 1000)\n",
      "35\n",
      "(35, 1000)\n",
      "514.4\n"
     ]
    }
   ],
   "source": [
    "# Example: Random Walks\n",
    "rand_numbers = randn(50,1000)\n",
    "steps = np.where(rand_numbers>0,1,-1)\n",
    "walks = steps.cumsum(1)\n",
    "print walks.shape\n",
    "hit30 = (np.abs(walks)>30).any(1)\n",
    "print hit30.sum()\n",
    "walks_hit30 = walks[hit30]\n",
    "print walks_hit30.shape\n",
    "crossing_time = (np.abs(walks[hit30])>30).argmax(1)\n",
    "print crossing_time.mean()"
   ]
  },
  {
   "cell_type": "code",
   "execution_count": null,
   "metadata": {
    "collapsed": false
   },
   "outputs": [],
   "source": []
  },
  {
   "cell_type": "code",
   "execution_count": null,
   "metadata": {
    "collapsed": true
   },
   "outputs": [],
   "source": []
  }
 ],
 "metadata": {
  "kernelspec": {
   "display_name": "Python 2",
   "language": "python",
   "name": "python2"
  },
  "language_info": {
   "codemirror_mode": {
    "name": "ipython",
    "version": 2
   },
   "file_extension": ".py",
   "mimetype": "text/x-python",
   "name": "python",
   "nbconvert_exporter": "python",
   "pygments_lexer": "ipython2",
   "version": "2.7.13"
  }
 },
 "nbformat": 4,
 "nbformat_minor": 2
}
