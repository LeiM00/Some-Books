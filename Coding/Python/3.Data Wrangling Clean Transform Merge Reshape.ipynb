{
 "cells": [
  {
   "cell_type": "code",
   "execution_count": 2,
   "metadata": {
    "collapsed": true
   },
   "outputs": [],
   "source": [
    "import numpy as np\n",
    "import pandas as pd\n",
    "from pandas import Series, DataFrame"
   ]
  },
  {
   "cell_type": "code",
   "execution_count": 34,
   "metadata": {
    "collapsed": false
   },
   "outputs": [
    {
     "data": {
      "text/html": [
       "<div>\n",
       "<table border=\"1\" class=\"dataframe\">\n",
       "  <thead>\n",
       "    <tr style=\"text-align: right;\">\n",
       "      <th></th>\n",
       "      <th>lkey1</th>\n",
       "      <th>lkey2</th>\n",
       "      <th>lval</th>\n",
       "      <th>event1</th>\n",
       "      <th>event2</th>\n",
       "    </tr>\n",
       "  </thead>\n",
       "  <tbody>\n",
       "    <tr>\n",
       "      <th>0</th>\n",
       "      <td>foo</td>\n",
       "      <td>one</td>\n",
       "      <td>1</td>\n",
       "      <td>0</td>\n",
       "      <td>1</td>\n",
       "    </tr>\n",
       "    <tr>\n",
       "      <th>0</th>\n",
       "      <td>foo</td>\n",
       "      <td>one</td>\n",
       "      <td>1</td>\n",
       "      <td>2</td>\n",
       "      <td>3</td>\n",
       "    </tr>\n",
       "    <tr>\n",
       "      <th>2</th>\n",
       "      <td>bar</td>\n",
       "      <td>one</td>\n",
       "      <td>3</td>\n",
       "      <td>6</td>\n",
       "      <td>7</td>\n",
       "    </tr>\n",
       "  </tbody>\n",
       "</table>\n",
       "</div>"
      ],
      "text/plain": [
       "  lkey1 lkey2  lval  event1  event2\n",
       "0   foo   one     1       0       1\n",
       "0   foo   one     1       2       3\n",
       "2   bar   one     3       6       7"
      ]
     },
     "execution_count": 34,
     "metadata": {},
     "output_type": "execute_result"
    }
   ],
   "source": [
    "# Combining and Merging Data Sets\n",
    "df1 = DataFrame({'key1': ['b', 'b', 'a'], 'key2': ['one', 'two', 'one'], 'data1': range(3)})\n",
    "df2 = DataFrame({'key1': ['a', 'b', 'd'], 'key2': ['one', 'two', 'one'], 'data2': range(3)})\n",
    "df3 = DataFrame({'lkey': ['b', 'b', 'a', 'c', 'a', 'a', 'b'], 'data1': range(7)})\n",
    "df4 = DataFrame({'rkey': ['a', 'b', 'd'], 'data2': range(3)})\n",
    "df5 = DataFrame({'lkey1': ['foo', 'foo', 'bar'], 'lkey2': ['one', 'two', 'one'], 'lval': [1,2,3]})\n",
    "df6 = DataFrame({'rkey1': ['foo', 'foo', 'bar', 'bar'], 'rkey2': ['one', 'one', 'two', 'one'], 'lval': [4,5,6,7]})\n",
    "df7 = DataFrame({'group_val': [3.5, 7]}, index = ['a', 'b'])\n",
    "df8 = DataFrame(np.arange(8).reshape((4,2)), index = [['foo', 'foo', 'bar', 'bar'],['one', 'one', 'two', 'one']], columns = ['event1', 'event2'])\n",
    "df9 = DataFrame(np.arange(6).reshape((3,2)), index = ['a', 'c', 'b'], columns = ['one', 'two'])\n",
    "\n",
    "pd.merge(df1, df2, on = 'key1', suffixes = ('_left', '_right')) \n",
    "# suffixes option: specify strings to append to overlapping names in the left and right DataFrame objects\n",
    "pd.merge(df3, df4, left_on = 'lkey', right_on = 'rkey')\n",
    "pd.merge(df1, df2, how = 'outer')  # Default: inner; left, right, outer\n",
    "pd.merge(df5, df6, left_on = ['lkey1', 'lkey2'], right_on = ['rkey1', 'rkey2'], how = 'outer')\n",
    "pd.merge(df3, df7, left_on = 'lkey', right_index = True, how = 'outer')\n",
    "pd.merge(df5, df8, left_on = ['lkey1', 'lkey2'], right_index = True)\n",
    "# Hierarchically indexed data\n",
    "# Other options: left_index, right_index, sort"
   ]
  },
  {
   "cell_type": "code",
   "execution_count": 59,
   "metadata": {
    "collapsed": false
   },
   "outputs": [
    {
     "name": "stdout",
     "output_type": "stream",
     "text": [
      "[[ 0  1  2  3  0  1  2  3]\n",
      " [ 4  5  6  7  4  5  6  7]\n",
      " [ 8  9 10 11  8  9 10 11]]\n",
      "one    a    0\n",
      "       b    1\n",
      "two    c    2\n",
      "       d    3\n",
      "       e    4\n",
      "three  f    5\n",
      "       g    6\n",
      "dtype: int64\n",
      "         a    b    c    d    e    f    g\n",
      "one    0.0  1.0  NaN  NaN  NaN  NaN  NaN\n",
      "two    NaN  NaN  2.0  3.0  4.0  NaN  NaN\n",
      "three  NaN  NaN  NaN  NaN  NaN  5.0  6.0\n",
      "******************************\n",
      "   one  two  three\n",
      "a  0.0  NaN    NaN\n",
      "b  1.0  NaN    NaN\n",
      "c  NaN  2.0    NaN\n",
      "d  NaN  3.0    NaN\n",
      "e  NaN  4.0    NaN\n",
      "f  NaN  NaN    5.0\n",
      "g  NaN  NaN    6.0\n",
      "upper level1        level2\n",
      "lower    one two group_val\n",
      "a          0   1       3.5\n",
      "b          4   5       7.0\n",
      "c          2   3       NaN\n",
      "  level1        level2\n",
      "     one two group_val\n",
      "a      0   1       3.5\n",
      "b      4   5       7.0\n",
      "c      2   3       NaN\n",
      "     0  1\n",
      "a  0.0  0\n",
      "b  1.0  5\n",
      "f  NaN  5\n",
      "g  NaN  6\n",
      "   0  1\n",
      "a  0  0\n",
      "b  1  5\n",
      "     0    1\n",
      "a  0.0  0.0\n",
      "c  NaN  NaN\n",
      "b  1.0  5.0\n",
      "e  NaN  NaN\n",
      "0    0\n",
      "1    1\n",
      "2    2\n",
      "3    3\n",
      "4    4\n",
      "dtype: int64\n"
     ]
    }
   ],
   "source": [
    "# Concatenating along an axis, p204\n",
    "arr1 = np.arange(12).reshape((3,4))\n",
    "print np.concatenate([arr1, arr1], axis = 1)\n",
    "\n",
    "s1 = Series([0, 1], index=['a', 'b'])\n",
    "s2 = Series([2, 3, 4], index=['c', 'd', 'e'])\n",
    "s3 = Series([5, 6], index=['f', 'g'])\n",
    "s4 = pd.concat([s1*5, s3])\n",
    "\n",
    "result = pd.concat([s1, s2, s3], keys= ['one', 'two', 'three'])  # create a hierarchical index on the concatenate axis\n",
    "print result\n",
    "print result.unstack()\n",
    "print pd.concat([s1, s2, s3], axis=1, keys=['one', 'two', 'three'])  # In the case of combining Series along axis=1, the keys become the DataFrame column headers\n",
    "print pd.concat([df9, df7], axis = 1, keys = ['level1', 'level2'], names = ['upper', 'lower'])\n",
    "print pd.concat({'level1': df9, 'level2': df7}, axis = 1)   # If you pass a dict of objects instead of a list, the dict’s keys will be used for the keys option:\n",
    "print pd.concat([s1, s4], axis = 1)\n",
    "print pd.concat([s1, s4], axis = 1, join = 'inner')\n",
    "print pd.concat([s1, s4], axis = 1, join_axes = [['a', 'c', 'b', 'e']])\n",
    "print pd.concat([s1, s2], ignore_index = True)\n"
   ]
  },
  {
   "cell_type": "code",
   "execution_count": 46,
   "metadata": {
    "collapsed": false
   },
   "outputs": [
    {
     "data": {
      "text/html": [
       "<div>\n",
       "<table border=\"1\" class=\"dataframe\">\n",
       "  <thead>\n",
       "    <tr style=\"text-align: right;\">\n",
       "      <th></th>\n",
       "      <th>a</th>\n",
       "      <th>b</th>\n",
       "      <th>c</th>\n",
       "    </tr>\n",
       "  </thead>\n",
       "  <tbody>\n",
       "    <tr>\n",
       "      <th>0</th>\n",
       "      <td>1.0</td>\n",
       "      <td>NaN</td>\n",
       "      <td>2.0</td>\n",
       "    </tr>\n",
       "    <tr>\n",
       "      <th>1</th>\n",
       "      <td>4.0</td>\n",
       "      <td>2.0</td>\n",
       "      <td>6.0</td>\n",
       "    </tr>\n",
       "    <tr>\n",
       "      <th>2</th>\n",
       "      <td>5.0</td>\n",
       "      <td>4.0</td>\n",
       "      <td>10.0</td>\n",
       "    </tr>\n",
       "    <tr>\n",
       "      <th>3</th>\n",
       "      <td>3.0</td>\n",
       "      <td>6.0</td>\n",
       "      <td>14.0</td>\n",
       "    </tr>\n",
       "    <tr>\n",
       "      <th>4</th>\n",
       "      <td>7.0</td>\n",
       "      <td>8.0</td>\n",
       "      <td>NaN</td>\n",
       "    </tr>\n",
       "  </tbody>\n",
       "</table>\n",
       "</div>"
      ],
      "text/plain": [
       "     a    b     c\n",
       "0  1.0  NaN   2.0\n",
       "1  4.0  2.0   6.0\n",
       "2  5.0  4.0  10.0\n",
       "3  3.0  6.0  14.0\n",
       "4  7.0  8.0   NaN"
      ]
     },
     "execution_count": 46,
     "metadata": {},
     "output_type": "execute_result"
    }
   ],
   "source": [
    "# Combining Data with Overlap, first get data from table1, if nan, get data from table2\n",
    "a = Series([np.nan, 2.5, np.nan, 3.5, 4.5, np.nan], index=['f', 'e', 'd', 'c', 'b', 'a'])\n",
    "b = Series(np.arange(len(a), dtype=np.float64), index=['f', 'e', 'd', 'c', 'b', 'a'])\n",
    "b[-1] = np.nan\n",
    "df1 = DataFrame({'a': [1., np.nan, 5., np.nan], 'b': [np.nan, 2., np.nan, 6.], 'c': range(2, 18, 4)})\n",
    "df2 = DataFrame({'a': [5., 4., np.nan, 3., 7.], 'b': [np.nan, 3., 4., 6., 8.]})\n",
    "\n",
    "np.where(pd.isnull(a), b, a)\n",
    "a.combine_first(b)\n",
    "df1.combine_first(df2)"
   ]
  },
  {
   "cell_type": "code",
   "execution_count": 67,
   "metadata": {
    "collapsed": false
   },
   "outputs": [
    {
     "name": "stdout",
     "output_type": "stream",
     "text": [
      "number    one  two  three\n",
      "state                    \n",
      "Ohio        0    1      2\n",
      "Colorado    3    4      5\n",
      "state   Ohio  Colorado\n",
      "number                \n",
      "one        0         3\n",
      "two        1         4\n",
      "three      2         5\n",
      "one  a    0\n",
      "     b    1\n",
      "     c    2\n",
      "     d    3\n",
      "two  c    4\n",
      "     d    5\n",
      "     e    6\n",
      "dtype: int64\n",
      "       a    b    c    d    e\n",
      "one  0.0  1.0  2.0  3.0  NaN\n",
      "two  NaN  NaN  4.0  5.0  6.0\n",
      "one  a    0.0\n",
      "     b    1.0\n",
      "     c    2.0\n",
      "     d    3.0\n",
      "     e    NaN\n",
      "two  a    NaN\n",
      "     b    NaN\n",
      "     c    4.0\n",
      "     d    5.0\n",
      "     e    6.0\n",
      "dtype: float64\n",
      "******************************\n",
      "side             left  right\n",
      "state    number             \n",
      "Ohio     one        0      5\n",
      "         two        1      6\n",
      "         three      2      7\n",
      "Colorado one        3      8\n",
      "         two        4      9\n",
      "         three      5     10\n",
      "state         Ohio  Colorado\n",
      "side  number                \n",
      "left  one        0         3\n",
      "      two        1         4\n",
      "      three      2         5\n",
      "right one        5         8\n",
      "      two        6         9\n",
      "      three      7        10\n"
     ]
    }
   ],
   "source": [
    "# Reshaping and Pivoting\n",
    "# Reshaping with Hierarchical Indexing\n",
    "data = DataFrame(np.arange(6).reshape((2,3)), index = pd.Index(['Ohio', 'Colorado'], name = 'state'), columns = pd.Index(['one', 'two', 'three'], name = 'number'))\n",
    "print data\n",
    "result = data.stack()\n",
    "print result.unstack(0)\n",
    "\n",
    "s1 = Series([0, 1, 2, 3], index=['a', 'b', 'c', 'd']) \n",
    "s2 = Series([4, 5, 6], index=['c', 'd', 'e'])\n",
    "data2 = pd.concat([s1, s2], keys=['one', 'two']) \n",
    "print data2\n",
    "print data2.unstack()\n",
    "print data2.unstack().stack(dropna=False)\n",
    "print '*'*30\n",
    "\n",
    "df = DataFrame({'left': result, 'right': result + 5}, columns=pd.Index(['left', 'right'], name='side'))\n",
    "print df\n",
    "print df.unstack('state').stack('side').swaplevel('side', 'number').sortlevel('side')"
   ]
  },
  {
   "cell_type": "code",
   "execution_count": 75,
   "metadata": {
    "collapsed": false
   },
   "outputs": [
    {
     "data": {
      "text/html": [
       "<div>\n",
       "<table border=\"1\" class=\"dataframe\">\n",
       "  <thead>\n",
       "    <tr>\n",
       "      <th></th>\n",
       "      <th colspan=\"3\" halign=\"left\">value</th>\n",
       "      <th colspan=\"3\" halign=\"left\">value2</th>\n",
       "    </tr>\n",
       "    <tr>\n",
       "      <th>item</th>\n",
       "      <th>infl</th>\n",
       "      <th>realgdp</th>\n",
       "      <th>unemp</th>\n",
       "      <th>infl</th>\n",
       "      <th>realgdp</th>\n",
       "      <th>unemp</th>\n",
       "    </tr>\n",
       "    <tr>\n",
       "      <th>date</th>\n",
       "      <th></th>\n",
       "      <th></th>\n",
       "      <th></th>\n",
       "      <th></th>\n",
       "      <th></th>\n",
       "      <th></th>\n",
       "    </tr>\n",
       "  </thead>\n",
       "  <tbody>\n",
       "    <tr>\n",
       "      <th>12/31/59</th>\n",
       "      <td>NaN</td>\n",
       "      <td>2785.204</td>\n",
       "      <td>NaN</td>\n",
       "      <td>NaN</td>\n",
       "      <td>-0.134104</td>\n",
       "      <td>NaN</td>\n",
       "    </tr>\n",
       "    <tr>\n",
       "      <th>3/31/59</th>\n",
       "      <td>0.00</td>\n",
       "      <td>2710.349</td>\n",
       "      <td>5.8</td>\n",
       "      <td>0.364424</td>\n",
       "      <td>1.309867</td>\n",
       "      <td>0.806347</td>\n",
       "    </tr>\n",
       "    <tr>\n",
       "      <th>6/30/59</th>\n",
       "      <td>2.34</td>\n",
       "      <td>2778.801</td>\n",
       "      <td>5.1</td>\n",
       "      <td>-1.282254</td>\n",
       "      <td>0.363119</td>\n",
       "      <td>-0.585538</td>\n",
       "    </tr>\n",
       "    <tr>\n",
       "      <th>9/30/59</th>\n",
       "      <td>2.74</td>\n",
       "      <td>2775.488</td>\n",
       "      <td>5.3</td>\n",
       "      <td>-1.140528</td>\n",
       "      <td>-0.855505</td>\n",
       "      <td>-1.625056</td>\n",
       "    </tr>\n",
       "  </tbody>\n",
       "</table>\n",
       "</div>"
      ],
      "text/plain": [
       "         value                    value2                    \n",
       "item      infl   realgdp unemp      infl   realgdp     unemp\n",
       "date                                                        \n",
       "12/31/59   NaN  2785.204   NaN       NaN -0.134104       NaN\n",
       "3/31/59   0.00  2710.349   5.8  0.364424  1.309867  0.806347\n",
       "6/30/59   2.34  2778.801   5.1 -1.282254  0.363119 -0.585538\n",
       "9/30/59   2.74  2775.488   5.3 -1.140528 -0.855505 -1.625056"
      ]
     },
     "execution_count": 75,
     "metadata": {},
     "output_type": "execute_result"
    }
   ],
   "source": [
    "# Pivoting “long” to “wide” Format\n",
    "ldata = pd.read_csv('Workbook1.csv')\n",
    "ldata['value2'] = np.random.randn(len(ldata))\n",
    "pivot = ldata.pivot('date', 'item', 'value')\n",
    "pivot = ldata.pivot('date', 'item')\n",
    "unstacked = ldata.set_index(['date', 'item']).unstack('item')\n",
    "unstacked"
   ]
  },
  {
   "cell_type": "code",
   "execution_count": 81,
   "metadata": {
    "collapsed": false
   },
   "outputs": [
    {
     "data": {
      "text/html": [
       "<div>\n",
       "<table border=\"1\" class=\"dataframe\">\n",
       "  <thead>\n",
       "    <tr style=\"text-align: right;\">\n",
       "      <th></th>\n",
       "      <th>k1</th>\n",
       "      <th>k2</th>\n",
       "      <th>v1</th>\n",
       "    </tr>\n",
       "  </thead>\n",
       "  <tbody>\n",
       "    <tr>\n",
       "      <th>1</th>\n",
       "      <td>one</td>\n",
       "      <td>1</td>\n",
       "      <td>1</td>\n",
       "    </tr>\n",
       "    <tr>\n",
       "      <th>2</th>\n",
       "      <td>one</td>\n",
       "      <td>2</td>\n",
       "      <td>2</td>\n",
       "    </tr>\n",
       "    <tr>\n",
       "      <th>4</th>\n",
       "      <td>two</td>\n",
       "      <td>3</td>\n",
       "      <td>4</td>\n",
       "    </tr>\n",
       "    <tr>\n",
       "      <th>6</th>\n",
       "      <td>two</td>\n",
       "      <td>4</td>\n",
       "      <td>6</td>\n",
       "    </tr>\n",
       "  </tbody>\n",
       "</table>\n",
       "</div>"
      ],
      "text/plain": [
       "    k1  k2  v1\n",
       "1  one   1   1\n",
       "2  one   2   2\n",
       "4  two   3   4\n",
       "6  two   4   6"
      ]
     },
     "execution_count": 81,
     "metadata": {},
     "output_type": "execute_result"
    }
   ],
   "source": [
    "## Data transformation\n",
    "# Removing Duplicates\n",
    "data = DataFrame({'k1': ['one'] * 3 + ['two'] * 4, 'k2': [1, 1, 2, 3, 3, 4, 4], 'v1': range(7)})\n",
    "data.duplicated()\n",
    "data.drop_duplicates(['k1', 'k2'], keep='last')   # take_last = True"
   ]
  },
  {
   "cell_type": "code",
   "execution_count": 84,
   "metadata": {
    "collapsed": false
   },
   "outputs": [
    {
     "data": {
      "text/html": [
       "<div>\n",
       "<table border=\"1\" class=\"dataframe\">\n",
       "  <thead>\n",
       "    <tr style=\"text-align: right;\">\n",
       "      <th></th>\n",
       "      <th>food</th>\n",
       "      <th>ounces</th>\n",
       "      <th>animal</th>\n",
       "    </tr>\n",
       "  </thead>\n",
       "  <tbody>\n",
       "    <tr>\n",
       "      <th>0</th>\n",
       "      <td>bacon</td>\n",
       "      <td>4.0</td>\n",
       "      <td>pig</td>\n",
       "    </tr>\n",
       "    <tr>\n",
       "      <th>1</th>\n",
       "      <td>pulled pork</td>\n",
       "      <td>3.0</td>\n",
       "      <td>pig</td>\n",
       "    </tr>\n",
       "    <tr>\n",
       "      <th>2</th>\n",
       "      <td>bacon</td>\n",
       "      <td>12.0</td>\n",
       "      <td>pig</td>\n",
       "    </tr>\n",
       "    <tr>\n",
       "      <th>3</th>\n",
       "      <td>Pastrami</td>\n",
       "      <td>6.0</td>\n",
       "      <td>cow</td>\n",
       "    </tr>\n",
       "    <tr>\n",
       "      <th>4</th>\n",
       "      <td>corned beef</td>\n",
       "      <td>7.5</td>\n",
       "      <td>cow</td>\n",
       "    </tr>\n",
       "    <tr>\n",
       "      <th>5</th>\n",
       "      <td>Bacon</td>\n",
       "      <td>8.0</td>\n",
       "      <td>pig</td>\n",
       "    </tr>\n",
       "    <tr>\n",
       "      <th>6</th>\n",
       "      <td>pastrami</td>\n",
       "      <td>3.0</td>\n",
       "      <td>cow</td>\n",
       "    </tr>\n",
       "    <tr>\n",
       "      <th>7</th>\n",
       "      <td>honey ham</td>\n",
       "      <td>5.0</td>\n",
       "      <td>pig</td>\n",
       "    </tr>\n",
       "    <tr>\n",
       "      <th>8</th>\n",
       "      <td>nova lox</td>\n",
       "      <td>6.0</td>\n",
       "      <td>salmon</td>\n",
       "    </tr>\n",
       "  </tbody>\n",
       "</table>\n",
       "</div>"
      ],
      "text/plain": [
       "          food  ounces  animal\n",
       "0        bacon     4.0     pig\n",
       "1  pulled pork     3.0     pig\n",
       "2        bacon    12.0     pig\n",
       "3     Pastrami     6.0     cow\n",
       "4  corned beef     7.5     cow\n",
       "5        Bacon     8.0     pig\n",
       "6     pastrami     3.0     cow\n",
       "7    honey ham     5.0     pig\n",
       "8     nova lox     6.0  salmon"
      ]
     },
     "execution_count": 84,
     "metadata": {},
     "output_type": "execute_result"
    }
   ],
   "source": [
    "# Transforming Data Using a Function or Mapping\n",
    "# Using map is a convenient way to perform element-wise transformations and other data cleaning-related operations.\n",
    "data = DataFrame({'food': ['bacon', 'pulled pork', 'bacon', 'Pastrami', 'corned beef', 'Bacon', 'pastrami', 'honey ham', 'nova lox'], \n",
    "                  'ounces': [4, 3, 12, 6, 7.5, 8, 3, 5, 6]})\n",
    "meat_to_animal = { 'bacon': 'pig', 'pulled pork': 'pig', 'pastrami': 'cow', 'corned beef': 'cow', 'honey ham': 'pig', 'nova lox': 'salmon'}\n",
    "data['animal'] = data['food'].map(str.lower).map(meat_to_animal)\n",
    "data"
   ]
  },
  {
   "cell_type": "code",
   "execution_count": 85,
   "metadata": {
    "collapsed": false
   },
   "outputs": [
    {
     "data": {
      "text/plain": [
       "0    1.0\n",
       "1    NaN\n",
       "2    2.0\n",
       "3    NaN\n",
       "4    0.0\n",
       "5    3.0\n",
       "dtype: float64"
      ]
     },
     "execution_count": 85,
     "metadata": {},
     "output_type": "execute_result"
    }
   ],
   "source": [
    "# Replace values\n",
    "data = Series([1., -999., 2., -999., -1000., 3.])\n",
    "data.replace(-999, np.nan)\n",
    "data.replace([-999, -1000], np.nan)\n",
    "data.replace([-999, -1000], [np.nan, 0])\n",
    "data.replace({-999: np.nan, -1000: 0})"
   ]
  },
  {
   "cell_type": "code",
   "execution_count": 94,
   "metadata": {
    "collapsed": false
   },
   "outputs": [
    {
     "data": {
      "text/html": [
       "<div>\n",
       "<table border=\"1\" class=\"dataframe\">\n",
       "  <thead>\n",
       "    <tr style=\"text-align: right;\">\n",
       "      <th></th>\n",
       "      <th>one</th>\n",
       "      <th>two</th>\n",
       "      <th>peekaboo</th>\n",
       "      <th>four</th>\n",
       "    </tr>\n",
       "  </thead>\n",
       "  <tbody>\n",
       "    <tr>\n",
       "      <th>INDIANA</th>\n",
       "      <td>0</td>\n",
       "      <td>1</td>\n",
       "      <td>2</td>\n",
       "      <td>3</td>\n",
       "    </tr>\n",
       "    <tr>\n",
       "      <th>COLORADO</th>\n",
       "      <td>4</td>\n",
       "      <td>5</td>\n",
       "      <td>6</td>\n",
       "      <td>7</td>\n",
       "    </tr>\n",
       "    <tr>\n",
       "      <th>NEW YORK</th>\n",
       "      <td>8</td>\n",
       "      <td>9</td>\n",
       "      <td>10</td>\n",
       "      <td>11</td>\n",
       "    </tr>\n",
       "  </tbody>\n",
       "</table>\n",
       "</div>"
      ],
      "text/plain": [
       "          one  two  peekaboo  four\n",
       "INDIANA     0    1         2     3\n",
       "COLORADO    4    5         6     7\n",
       "NEW YORK    8    9        10    11"
      ]
     },
     "execution_count": 94,
     "metadata": {},
     "output_type": "execute_result"
    }
   ],
   "source": [
    "# Renaming Axis Indexes\n",
    "data = DataFrame(np.arange(12).reshape((3, 4)), index=['Ohio', 'Colorado', 'New York'], columns=['one', 'two', 'three', 'four'])\n",
    "data.index = data.index.map(str.upper)\n",
    "data.rename(index = str.title, columns = str.upper)\n",
    "_ = data.rename(index = {'OHIO': 'INDIANA'}, columns = {'three': 'peekaboo'}, inplace = True)\n",
    "data"
   ]
  },
  {
   "cell_type": "code",
   "execution_count": 4,
   "metadata": {
    "collapsed": false
   },
   "outputs": [
    {
     "name": "stdout",
     "output_type": "stream",
     "text": [
      "******************************\n",
      "(0.026, 0.25]    3\n",
      "(0.25, 0.48]     5\n",
      "(0.48, 0.71]     5\n",
      "(0.71, 0.93]     7\n",
      "dtype: int64\n"
     ]
    }
   ],
   "source": [
    "# Discretization and Binning\n",
    "ages = [20, 22, 25, 27, 21, 23, 37, 31, 61, 45, 41, 32]\n",
    "bins = [18, 25, 35, 60, 100]\n",
    "group_names= ['Youth', 'YoungAdult', 'MiddleAged', 'Senior']\n",
    "data = np.random.rand(20)\n",
    "cats = pd.cut(ages, bins, labels = group_names, right = False)\n",
    "cats1 = pd.cut(data, 4, precision = 2)  # cut into equal length bins\n",
    "catsq1 = pd.qcut(data, 4)   # cut into quartiles, equal sized\n",
    "catsq = pd.qcut(data, [0, 0.1, 0.4, 0.75, 1])\n",
    "cats\n",
    "cats.codes\n",
    "pd.value_counts(cats)\n",
    "catsq.value_counts()\n",
    "print '*'*30\n",
    "print cats1.value_counts()"
   ]
  },
  {
   "cell_type": "code",
   "execution_count": 121,
   "metadata": {
    "collapsed": false
   },
   "outputs": [
    {
     "data": {
      "text/html": [
       "<div>\n",
       "<table border=\"1\" class=\"dataframe\">\n",
       "  <thead>\n",
       "    <tr style=\"text-align: right;\">\n",
       "      <th></th>\n",
       "      <th>0</th>\n",
       "      <th>1</th>\n",
       "      <th>2</th>\n",
       "      <th>3</th>\n",
       "    </tr>\n",
       "  </thead>\n",
       "  <tbody>\n",
       "    <tr>\n",
       "      <th>count</th>\n",
       "      <td>1000.000000</td>\n",
       "      <td>1000.000000</td>\n",
       "      <td>1000.000000</td>\n",
       "      <td>1000.000000</td>\n",
       "    </tr>\n",
       "    <tr>\n",
       "      <th>mean</th>\n",
       "      <td>-0.013178</td>\n",
       "      <td>0.029405</td>\n",
       "      <td>0.007056</td>\n",
       "      <td>-0.010801</td>\n",
       "    </tr>\n",
       "    <tr>\n",
       "      <th>std</th>\n",
       "      <td>0.967642</td>\n",
       "      <td>0.997839</td>\n",
       "      <td>0.958048</td>\n",
       "      <td>0.988979</td>\n",
       "    </tr>\n",
       "    <tr>\n",
       "      <th>min</th>\n",
       "      <td>-3.000000</td>\n",
       "      <td>-3.000000</td>\n",
       "      <td>-3.000000</td>\n",
       "      <td>-3.000000</td>\n",
       "    </tr>\n",
       "    <tr>\n",
       "      <th>25%</th>\n",
       "      <td>-0.639469</td>\n",
       "      <td>-0.610736</td>\n",
       "      <td>-0.661881</td>\n",
       "      <td>-0.658146</td>\n",
       "    </tr>\n",
       "    <tr>\n",
       "      <th>50%</th>\n",
       "      <td>-0.004637</td>\n",
       "      <td>0.039815</td>\n",
       "      <td>0.018655</td>\n",
       "      <td>-0.005824</td>\n",
       "    </tr>\n",
       "    <tr>\n",
       "      <th>75%</th>\n",
       "      <td>0.630381</td>\n",
       "      <td>0.752968</td>\n",
       "      <td>0.698894</td>\n",
       "      <td>0.644083</td>\n",
       "    </tr>\n",
       "    <tr>\n",
       "      <th>max</th>\n",
       "      <td>3.000000</td>\n",
       "      <td>2.930711</td>\n",
       "      <td>3.000000</td>\n",
       "      <td>2.935556</td>\n",
       "    </tr>\n",
       "  </tbody>\n",
       "</table>\n",
       "</div>"
      ],
      "text/plain": [
       "                 0            1            2            3\n",
       "count  1000.000000  1000.000000  1000.000000  1000.000000\n",
       "mean     -0.013178     0.029405     0.007056    -0.010801\n",
       "std       0.967642     0.997839     0.958048     0.988979\n",
       "min      -3.000000    -3.000000    -3.000000    -3.000000\n",
       "25%      -0.639469    -0.610736    -0.661881    -0.658146\n",
       "50%      -0.004637     0.039815     0.018655    -0.005824\n",
       "75%       0.630381     0.752968     0.698894     0.644083\n",
       "max       3.000000     2.930711     3.000000     2.935556"
      ]
     },
     "execution_count": 121,
     "metadata": {},
     "output_type": "execute_result"
    }
   ],
   "source": [
    "# Detecting and Filtering Outlier\n",
    "data = DataFrame(np.random.randn(1000, 4))\n",
    "data.describe()\n",
    "data[(np.abs(data)>3).any(1)]  # select all rows having a value > +-3\n",
    "data[np.abs(data)>3] = np.sign(data) *3\n",
    "data.describe()"
   ]
  },
  {
   "cell_type": "code",
   "execution_count": 145,
   "metadata": {
    "collapsed": false
   },
   "outputs": [
    {
     "data": {
      "text/html": [
       "<div>\n",
       "<table border=\"1\" class=\"dataframe\">\n",
       "  <thead>\n",
       "    <tr style=\"text-align: right;\">\n",
       "      <th></th>\n",
       "      <th>0</th>\n",
       "      <th>1</th>\n",
       "      <th>2</th>\n",
       "      <th>3</th>\n",
       "    </tr>\n",
       "  </thead>\n",
       "  <tbody>\n",
       "    <tr>\n",
       "      <th>0</th>\n",
       "      <td>0</td>\n",
       "      <td>1</td>\n",
       "      <td>2</td>\n",
       "      <td>3</td>\n",
       "    </tr>\n",
       "    <tr>\n",
       "      <th>2</th>\n",
       "      <td>8</td>\n",
       "      <td>9</td>\n",
       "      <td>10</td>\n",
       "      <td>11</td>\n",
       "    </tr>\n",
       "    <tr>\n",
       "      <th>3</th>\n",
       "      <td>12</td>\n",
       "      <td>13</td>\n",
       "      <td>14</td>\n",
       "      <td>15</td>\n",
       "    </tr>\n",
       "    <tr>\n",
       "      <th>3</th>\n",
       "      <td>12</td>\n",
       "      <td>13</td>\n",
       "      <td>14</td>\n",
       "      <td>15</td>\n",
       "    </tr>\n",
       "    <tr>\n",
       "      <th>0</th>\n",
       "      <td>0</td>\n",
       "      <td>1</td>\n",
       "      <td>2</td>\n",
       "      <td>3</td>\n",
       "    </tr>\n",
       "    <tr>\n",
       "      <th>0</th>\n",
       "      <td>0</td>\n",
       "      <td>1</td>\n",
       "      <td>2</td>\n",
       "      <td>3</td>\n",
       "    </tr>\n",
       "  </tbody>\n",
       "</table>\n",
       "</div>"
      ],
      "text/plain": [
       "    0   1   2   3\n",
       "0   0   1   2   3\n",
       "2   8   9  10  11\n",
       "3  12  13  14  15\n",
       "3  12  13  14  15\n",
       "0   0   1   2   3\n",
       "0   0   1   2   3"
      ]
     },
     "execution_count": 145,
     "metadata": {},
     "output_type": "execute_result"
    }
   ],
   "source": [
    "# Permutation and Random Sampling\n",
    "df = DataFrame(np.arange(20).reshape(5,4))\n",
    "sampler = np.random.permutation(5)\n",
    "df.take(sampler)\n",
    "df.ix[sampler]\n",
    "df.take(np.random.permutation(len(df))[:3])  # to select a random subset without replacement\n",
    "df.take(np.random.randint(0, len(df), size = 6))"
   ]
  },
  {
   "cell_type": "code",
   "execution_count": 167,
   "metadata": {
    "collapsed": false,
    "scrolled": false
   },
   "outputs": [
    {
     "data": {
      "text/html": [
       "<div>\n",
       "<table border=\"1\" class=\"dataframe\">\n",
       "  <thead>\n",
       "    <tr style=\"text-align: right;\">\n",
       "      <th></th>\n",
       "      <th>Youth</th>\n",
       "      <th>YoungAdult</th>\n",
       "      <th>MiddleAged</th>\n",
       "      <th>Senior</th>\n",
       "    </tr>\n",
       "  </thead>\n",
       "  <tbody>\n",
       "    <tr>\n",
       "      <th>0</th>\n",
       "      <td>1</td>\n",
       "      <td>0</td>\n",
       "      <td>0</td>\n",
       "      <td>0</td>\n",
       "    </tr>\n",
       "    <tr>\n",
       "      <th>1</th>\n",
       "      <td>1</td>\n",
       "      <td>0</td>\n",
       "      <td>0</td>\n",
       "      <td>0</td>\n",
       "    </tr>\n",
       "    <tr>\n",
       "      <th>2</th>\n",
       "      <td>1</td>\n",
       "      <td>0</td>\n",
       "      <td>0</td>\n",
       "      <td>0</td>\n",
       "    </tr>\n",
       "    <tr>\n",
       "      <th>3</th>\n",
       "      <td>0</td>\n",
       "      <td>1</td>\n",
       "      <td>0</td>\n",
       "      <td>0</td>\n",
       "    </tr>\n",
       "    <tr>\n",
       "      <th>4</th>\n",
       "      <td>1</td>\n",
       "      <td>0</td>\n",
       "      <td>0</td>\n",
       "      <td>0</td>\n",
       "    </tr>\n",
       "    <tr>\n",
       "      <th>5</th>\n",
       "      <td>1</td>\n",
       "      <td>0</td>\n",
       "      <td>0</td>\n",
       "      <td>0</td>\n",
       "    </tr>\n",
       "    <tr>\n",
       "      <th>6</th>\n",
       "      <td>0</td>\n",
       "      <td>0</td>\n",
       "      <td>1</td>\n",
       "      <td>0</td>\n",
       "    </tr>\n",
       "    <tr>\n",
       "      <th>7</th>\n",
       "      <td>0</td>\n",
       "      <td>1</td>\n",
       "      <td>0</td>\n",
       "      <td>0</td>\n",
       "    </tr>\n",
       "    <tr>\n",
       "      <th>8</th>\n",
       "      <td>0</td>\n",
       "      <td>0</td>\n",
       "      <td>0</td>\n",
       "      <td>1</td>\n",
       "    </tr>\n",
       "    <tr>\n",
       "      <th>9</th>\n",
       "      <td>0</td>\n",
       "      <td>0</td>\n",
       "      <td>1</td>\n",
       "      <td>0</td>\n",
       "    </tr>\n",
       "    <tr>\n",
       "      <th>10</th>\n",
       "      <td>0</td>\n",
       "      <td>0</td>\n",
       "      <td>1</td>\n",
       "      <td>0</td>\n",
       "    </tr>\n",
       "    <tr>\n",
       "      <th>11</th>\n",
       "      <td>0</td>\n",
       "      <td>1</td>\n",
       "      <td>0</td>\n",
       "      <td>0</td>\n",
       "    </tr>\n",
       "  </tbody>\n",
       "</table>\n",
       "</div>"
      ],
      "text/plain": [
       "    Youth  YoungAdult  MiddleAged  Senior\n",
       "0       1           0           0       0\n",
       "1       1           0           0       0\n",
       "2       1           0           0       0\n",
       "3       0           1           0       0\n",
       "4       1           0           0       0\n",
       "5       1           0           0       0\n",
       "6       0           0           1       0\n",
       "7       0           1           0       0\n",
       "8       0           0           0       1\n",
       "9       0           0           1       0\n",
       "10      0           0           1       0\n",
       "11      0           1           0       0"
      ]
     },
     "execution_count": 167,
     "metadata": {},
     "output_type": "execute_result"
    }
   ],
   "source": [
    "# Computing indicator/ dummy variables\n",
    "df = DataFrame({'key': ['b', 'b', 'a', 'c', 'a', 'b'], 'data1': range(6)})\n",
    "dummies = pd.get_dummies(df['key'], prefix = 'key')  # create dummy variables for qualitative variable\n",
    "df_with_dummy = df[['data1']].join(dummies)\n",
    "df_with_dummy\n",
    "\n",
    "# movies = pd.read_csv('WorkBook1.csv')\n",
    "genre_iter = (set(x.split('|')) for x in movies.genres)\n",
    "genres = sorted(set.union(*genre_iter))\n",
    "dummies = DataFrame(np.zeros((len(movies), len(genres))), columns = genres)\n",
    "for i, gen in enumerate(movies.genres):\n",
    "    dummies.ix[i, gen.split('|')] = 1\n",
    "movies_windic = movies.join(dummies.add_prefix('Genre_'))\n",
    "movies_windic.ix[1]\n",
    "pd.get_dummies(pd.cut(ages, bins, labels = group_names))\n",
    "\n"
   ]
  },
  {
   "cell_type": "code",
   "execution_count": 192,
   "metadata": {
    "collapsed": false
   },
   "outputs": [
    {
     "name": "stdout",
     "output_type": "stream",
     "text": [
      "['a', 'b', 'guido']\n",
      "a::b::guido\n",
      "True\n",
      "1\n",
      "-1\n",
      "2\n",
      "a::b::  guido\n"
     ]
    }
   ],
   "source": [
    "# String Manipulation, p207\n",
    "val = 'a,b,  guido'\n",
    "pieces = [x.strip() for x in val.split(',')]\n",
    "print pieces\n",
    "print '::'.join(pieces)\n",
    "print 'guido' in val\n",
    "print val.index(',')\n",
    "print val.find(':')\n",
    "print val.count(',')\n",
    "print val.replace(',', '::')"
   ]
  },
  {
   "cell_type": "code",
   "execution_count": 213,
   "metadata": {
    "collapsed": false
   },
   "outputs": [
    {
     "name": "stdout",
     "output_type": "stream",
     "text": [
      "None\n",
      "Dave REDACTED \n",
      "Steve REDACTED\n",
      "Rob REDACTED\n",
      "Ryan REDACTED\n",
      "\n",
      "Dave Username: dave, Domain: google, Suffix: com \n",
      "Steve Username: steve, Domain: gmail, Suffix: com\n",
      "Rob Username: rob, Domain: gmail, Suffix: com\n",
      "Ryan Username: ryan, Domain: yahoo, Suffix: com\n",
      "\n"
     ]
    },
    {
     "data": {
      "text/plain": [
       "{'domain': 'bright', 'suffix': 'net', 'username': 'wesm'}"
      ]
     },
     "execution_count": 213,
     "metadata": {},
     "output_type": "execute_result"
    }
   ],
   "source": [
    "# Regular expressions\n",
    "import re\n",
    "text = \"foo bar\\t baz  \\tqux\"  # whitespace characters\" \\s+\n",
    "re.split('\\s+', text)\n",
    "\n",
    "regex = re.compile('\\s+')\n",
    "regex.split(text)\n",
    "regex.findall(text)\n",
    "\n",
    "text = \"\"\"Dave dave@google.com \n",
    "Steve steve@gmail.com\n",
    "Rob rob@gmail.com\n",
    "Ryan ryan@yahoo.com\n",
    "\"\"\"\n",
    "pattern = '[A-Z0-9._%+-]+@[A-Z0-9.-]+\\.[A-Z]{2,4}'\n",
    "regex = re.compile(pattern, flags = re.IGNORECASE)  #re.IGNORECASE makes the regex case-insensitive\n",
    "regex.findall(text)\n",
    "m = regex.search(text)   # search: returns only the first match\n",
    "text[m.start():m.end()]\n",
    "print regex.match(text)   # match: only matches at the beginning of the string\n",
    "print regex.sub('REDACTED', text)\n",
    "\n",
    "# segment each address into its 3 components, p226\n",
    "pattern = '([A-Z0-9._%+-]+)@([A-Z0-9.-]+)\\.([A-Z]{2,4})'\n",
    "regex = re.compile(pattern, flags = re.IGNORECASE)\n",
    "regex.findall(text)\n",
    "print regex.sub(r'Username: \\1, Domain: \\2, Suffix: \\3', text)\n",
    "\n",
    "regex = re.compile(r\"\"\"\n",
    "(?P<username>[A-Z0-9._%+-]+)\n",
    "@\n",
    "(?P<domain>[A-Z0-9.-]+)\n",
    "\\.\n",
    "(?P<suffix>[A-Z]{2,4})\"\"\", flags=re.IGNORECASE|re.VERBOSE)\n",
    "regex.match('wesm@bright.net').groupdict()"
   ]
  },
  {
   "cell_type": "code",
   "execution_count": 239,
   "metadata": {
    "collapsed": false
   },
   "outputs": [
    {
     "data": {
      "text/plain": [
       "Dave     dave@\n",
       "Rob      rob@g\n",
       "Steve    steve\n",
       "Wes        NaN\n",
       "dtype: object"
      ]
     },
     "execution_count": 239,
     "metadata": {},
     "output_type": "execute_result"
    }
   ],
   "source": [
    "# Vectorized string functions in pandas, p228\n",
    "data = {'Dave': 'dave@google.com', 'Steve': 'steve@gmail.com', 'Rob': 'rob@gmail.com', 'Wes': np.nan}\n",
    "data = Series(data)\n",
    "data.str.contains('gmail')\n",
    "pattern = '([A-Z0-9._%+-]+)@([A-Z0-9.-]+)\\.([A-Z]{2,4})'\n",
    "data.str.findall(pattern, flags = re.IGNORECASE)\n",
    "data.str[:5]\n"
   ]
  },
  {
   "cell_type": "code",
   "execution_count": null,
   "metadata": {
    "collapsed": true
   },
   "outputs": [],
   "source": []
  }
 ],
 "metadata": {
  "kernelspec": {
   "display_name": "Python 2",
   "language": "python",
   "name": "python2"
  },
  "language_info": {
   "codemirror_mode": {
    "name": "ipython",
    "version": 2
   },
   "file_extension": ".py",
   "mimetype": "text/x-python",
   "name": "python",
   "nbconvert_exporter": "python",
   "pygments_lexer": "ipython2",
   "version": "2.7.13"
  }
 },
 "nbformat": 4,
 "nbformat_minor": 2
}
